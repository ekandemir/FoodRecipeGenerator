{
  "nbformat": 4,
  "nbformat_minor": 0,
  "metadata": {
    "colab": {
      "name": "CreativityProject.ipynb",
      "provenance": [],
      "collapsed_sections": [
        "m2m1dw3ClDyU",
        "D-zlqUO1lF8A",
        "-FwCpSh8lI8y",
        "SPX0RRBXdm2J"
      ],
      "authorship_tag": "ABX9TyOFHAQiFJMgj9eKKF/n7Nvr",
      "include_colab_link": true
    },
    "kernelspec": {
      "name": "python3",
      "display_name": "Python 3"
    },
    "language_info": {
      "name": "python"
    },
    "accelerator": "GPU",
    "widgets": {
      "application/vnd.jupyter.widget-state+json": {
        "13baeb950a1e47ecbfa1b0a75bed9edd": {
          "model_module": "@jupyter-widgets/controls",
          "model_name": "HBoxModel",
          "model_module_version": "1.5.0",
          "state": {
            "_dom_classes": [],
            "_model_module": "@jupyter-widgets/controls",
            "_model_module_version": "1.5.0",
            "_model_name": "HBoxModel",
            "_view_count": null,
            "_view_module": "@jupyter-widgets/controls",
            "_view_module_version": "1.5.0",
            "_view_name": "HBoxView",
            "box_style": "",
            "children": [
              "IPY_MODEL_f69af07a49b3478181c123c5f3b889a3",
              "IPY_MODEL_f9b076467a194ce1a65f8b20785b0419",
              "IPY_MODEL_1e1362cffd1042bfae594352a380fc4e"
            ],
            "layout": "IPY_MODEL_0ba9bb8b16834a28a306dd61be186446"
          }
        },
        "f69af07a49b3478181c123c5f3b889a3": {
          "model_module": "@jupyter-widgets/controls",
          "model_name": "HTMLModel",
          "model_module_version": "1.5.0",
          "state": {
            "_dom_classes": [],
            "_model_module": "@jupyter-widgets/controls",
            "_model_module_version": "1.5.0",
            "_model_name": "HTMLModel",
            "_view_count": null,
            "_view_module": "@jupyter-widgets/controls",
            "_view_module_version": "1.5.0",
            "_view_name": "HTMLView",
            "description": "",
            "description_tooltip": null,
            "layout": "IPY_MODEL_04c03a8bedcb47ba9e0f9148c3d72562",
            "placeholder": "​",
            "style": "IPY_MODEL_4a07acf6161d4d8998319ba902f24e2f",
            "value": "Downloading data files: 100%"
          }
        },
        "f9b076467a194ce1a65f8b20785b0419": {
          "model_module": "@jupyter-widgets/controls",
          "model_name": "FloatProgressModel",
          "model_module_version": "1.5.0",
          "state": {
            "_dom_classes": [],
            "_model_module": "@jupyter-widgets/controls",
            "_model_module_version": "1.5.0",
            "_model_name": "FloatProgressModel",
            "_view_count": null,
            "_view_module": "@jupyter-widgets/controls",
            "_view_module_version": "1.5.0",
            "_view_name": "ProgressView",
            "bar_style": "success",
            "description": "",
            "description_tooltip": null,
            "layout": "IPY_MODEL_e4a2dbbe4cbb4d9cac28fbf6a1420f61",
            "max": 1,
            "min": 0,
            "orientation": "horizontal",
            "style": "IPY_MODEL_7f8e008d586940f58555906cc9d4fe37",
            "value": 1
          }
        },
        "1e1362cffd1042bfae594352a380fc4e": {
          "model_module": "@jupyter-widgets/controls",
          "model_name": "HTMLModel",
          "model_module_version": "1.5.0",
          "state": {
            "_dom_classes": [],
            "_model_module": "@jupyter-widgets/controls",
            "_model_module_version": "1.5.0",
            "_model_name": "HTMLModel",
            "_view_count": null,
            "_view_module": "@jupyter-widgets/controls",
            "_view_module_version": "1.5.0",
            "_view_name": "HTMLView",
            "description": "",
            "description_tooltip": null,
            "layout": "IPY_MODEL_44e6659675c444e7a0acf7978be7234b",
            "placeholder": "​",
            "style": "IPY_MODEL_c6bb40403d5b48669c2e1aeed899a345",
            "value": " 1/1 [00:00&lt;00:00,  9.87it/s]"
          }
        },
        "0ba9bb8b16834a28a306dd61be186446": {
          "model_module": "@jupyter-widgets/base",
          "model_name": "LayoutModel",
          "model_module_version": "1.2.0",
          "state": {
            "_model_module": "@jupyter-widgets/base",
            "_model_module_version": "1.2.0",
            "_model_name": "LayoutModel",
            "_view_count": null,
            "_view_module": "@jupyter-widgets/base",
            "_view_module_version": "1.2.0",
            "_view_name": "LayoutView",
            "align_content": null,
            "align_items": null,
            "align_self": null,
            "border": null,
            "bottom": null,
            "display": null,
            "flex": null,
            "flex_flow": null,
            "grid_area": null,
            "grid_auto_columns": null,
            "grid_auto_flow": null,
            "grid_auto_rows": null,
            "grid_column": null,
            "grid_gap": null,
            "grid_row": null,
            "grid_template_areas": null,
            "grid_template_columns": null,
            "grid_template_rows": null,
            "height": null,
            "justify_content": null,
            "justify_items": null,
            "left": null,
            "margin": null,
            "max_height": null,
            "max_width": null,
            "min_height": null,
            "min_width": null,
            "object_fit": null,
            "object_position": null,
            "order": null,
            "overflow": null,
            "overflow_x": null,
            "overflow_y": null,
            "padding": null,
            "right": null,
            "top": null,
            "visibility": null,
            "width": null
          }
        },
        "04c03a8bedcb47ba9e0f9148c3d72562": {
          "model_module": "@jupyter-widgets/base",
          "model_name": "LayoutModel",
          "model_module_version": "1.2.0",
          "state": {
            "_model_module": "@jupyter-widgets/base",
            "_model_module_version": "1.2.0",
            "_model_name": "LayoutModel",
            "_view_count": null,
            "_view_module": "@jupyter-widgets/base",
            "_view_module_version": "1.2.0",
            "_view_name": "LayoutView",
            "align_content": null,
            "align_items": null,
            "align_self": null,
            "border": null,
            "bottom": null,
            "display": null,
            "flex": null,
            "flex_flow": null,
            "grid_area": null,
            "grid_auto_columns": null,
            "grid_auto_flow": null,
            "grid_auto_rows": null,
            "grid_column": null,
            "grid_gap": null,
            "grid_row": null,
            "grid_template_areas": null,
            "grid_template_columns": null,
            "grid_template_rows": null,
            "height": null,
            "justify_content": null,
            "justify_items": null,
            "left": null,
            "margin": null,
            "max_height": null,
            "max_width": null,
            "min_height": null,
            "min_width": null,
            "object_fit": null,
            "object_position": null,
            "order": null,
            "overflow": null,
            "overflow_x": null,
            "overflow_y": null,
            "padding": null,
            "right": null,
            "top": null,
            "visibility": null,
            "width": null
          }
        },
        "4a07acf6161d4d8998319ba902f24e2f": {
          "model_module": "@jupyter-widgets/controls",
          "model_name": "DescriptionStyleModel",
          "model_module_version": "1.5.0",
          "state": {
            "_model_module": "@jupyter-widgets/controls",
            "_model_module_version": "1.5.0",
            "_model_name": "DescriptionStyleModel",
            "_view_count": null,
            "_view_module": "@jupyter-widgets/base",
            "_view_module_version": "1.2.0",
            "_view_name": "StyleView",
            "description_width": ""
          }
        },
        "e4a2dbbe4cbb4d9cac28fbf6a1420f61": {
          "model_module": "@jupyter-widgets/base",
          "model_name": "LayoutModel",
          "model_module_version": "1.2.0",
          "state": {
            "_model_module": "@jupyter-widgets/base",
            "_model_module_version": "1.2.0",
            "_model_name": "LayoutModel",
            "_view_count": null,
            "_view_module": "@jupyter-widgets/base",
            "_view_module_version": "1.2.0",
            "_view_name": "LayoutView",
            "align_content": null,
            "align_items": null,
            "align_self": null,
            "border": null,
            "bottom": null,
            "display": null,
            "flex": null,
            "flex_flow": null,
            "grid_area": null,
            "grid_auto_columns": null,
            "grid_auto_flow": null,
            "grid_auto_rows": null,
            "grid_column": null,
            "grid_gap": null,
            "grid_row": null,
            "grid_template_areas": null,
            "grid_template_columns": null,
            "grid_template_rows": null,
            "height": null,
            "justify_content": null,
            "justify_items": null,
            "left": null,
            "margin": null,
            "max_height": null,
            "max_width": null,
            "min_height": null,
            "min_width": null,
            "object_fit": null,
            "object_position": null,
            "order": null,
            "overflow": null,
            "overflow_x": null,
            "overflow_y": null,
            "padding": null,
            "right": null,
            "top": null,
            "visibility": null,
            "width": null
          }
        },
        "7f8e008d586940f58555906cc9d4fe37": {
          "model_module": "@jupyter-widgets/controls",
          "model_name": "ProgressStyleModel",
          "model_module_version": "1.5.0",
          "state": {
            "_model_module": "@jupyter-widgets/controls",
            "_model_module_version": "1.5.0",
            "_model_name": "ProgressStyleModel",
            "_view_count": null,
            "_view_module": "@jupyter-widgets/base",
            "_view_module_version": "1.2.0",
            "_view_name": "StyleView",
            "bar_color": null,
            "description_width": ""
          }
        },
        "44e6659675c444e7a0acf7978be7234b": {
          "model_module": "@jupyter-widgets/base",
          "model_name": "LayoutModel",
          "model_module_version": "1.2.0",
          "state": {
            "_model_module": "@jupyter-widgets/base",
            "_model_module_version": "1.2.0",
            "_model_name": "LayoutModel",
            "_view_count": null,
            "_view_module": "@jupyter-widgets/base",
            "_view_module_version": "1.2.0",
            "_view_name": "LayoutView",
            "align_content": null,
            "align_items": null,
            "align_self": null,
            "border": null,
            "bottom": null,
            "display": null,
            "flex": null,
            "flex_flow": null,
            "grid_area": null,
            "grid_auto_columns": null,
            "grid_auto_flow": null,
            "grid_auto_rows": null,
            "grid_column": null,
            "grid_gap": null,
            "grid_row": null,
            "grid_template_areas": null,
            "grid_template_columns": null,
            "grid_template_rows": null,
            "height": null,
            "justify_content": null,
            "justify_items": null,
            "left": null,
            "margin": null,
            "max_height": null,
            "max_width": null,
            "min_height": null,
            "min_width": null,
            "object_fit": null,
            "object_position": null,
            "order": null,
            "overflow": null,
            "overflow_x": null,
            "overflow_y": null,
            "padding": null,
            "right": null,
            "top": null,
            "visibility": null,
            "width": null
          }
        },
        "c6bb40403d5b48669c2e1aeed899a345": {
          "model_module": "@jupyter-widgets/controls",
          "model_name": "DescriptionStyleModel",
          "model_module_version": "1.5.0",
          "state": {
            "_model_module": "@jupyter-widgets/controls",
            "_model_module_version": "1.5.0",
            "_model_name": "DescriptionStyleModel",
            "_view_count": null,
            "_view_module": "@jupyter-widgets/base",
            "_view_module_version": "1.2.0",
            "_view_name": "StyleView",
            "description_width": ""
          }
        },
        "599fccd98d5940d09973d412a4d355ee": {
          "model_module": "@jupyter-widgets/controls",
          "model_name": "HBoxModel",
          "model_module_version": "1.5.0",
          "state": {
            "_dom_classes": [],
            "_model_module": "@jupyter-widgets/controls",
            "_model_module_version": "1.5.0",
            "_model_name": "HBoxModel",
            "_view_count": null,
            "_view_module": "@jupyter-widgets/controls",
            "_view_module_version": "1.5.0",
            "_view_name": "HBoxView",
            "box_style": "",
            "children": [
              "IPY_MODEL_364662472c5a4e97a88f58a20c6a1d9b",
              "IPY_MODEL_adc27bbec41e4712a2b3d1824aa09f40",
              "IPY_MODEL_2ed53d8935ac42d4857a0d6513563180"
            ],
            "layout": "IPY_MODEL_0caecd567d8544d69f3f2e49c8e64f4c"
          }
        },
        "364662472c5a4e97a88f58a20c6a1d9b": {
          "model_module": "@jupyter-widgets/controls",
          "model_name": "HTMLModel",
          "model_module_version": "1.5.0",
          "state": {
            "_dom_classes": [],
            "_model_module": "@jupyter-widgets/controls",
            "_model_module_version": "1.5.0",
            "_model_name": "HTMLModel",
            "_view_count": null,
            "_view_module": "@jupyter-widgets/controls",
            "_view_module_version": "1.5.0",
            "_view_name": "HTMLView",
            "description": "",
            "description_tooltip": null,
            "layout": "IPY_MODEL_0ded0d22adfb40c4bce7c683ce9518e0",
            "placeholder": "​",
            "style": "IPY_MODEL_1bc79e07e6ec405c955006172e41cb24",
            "value": "Extracting data files: 100%"
          }
        },
        "adc27bbec41e4712a2b3d1824aa09f40": {
          "model_module": "@jupyter-widgets/controls",
          "model_name": "FloatProgressModel",
          "model_module_version": "1.5.0",
          "state": {
            "_dom_classes": [],
            "_model_module": "@jupyter-widgets/controls",
            "_model_module_version": "1.5.0",
            "_model_name": "FloatProgressModel",
            "_view_count": null,
            "_view_module": "@jupyter-widgets/controls",
            "_view_module_version": "1.5.0",
            "_view_name": "ProgressView",
            "bar_style": "success",
            "description": "",
            "description_tooltip": null,
            "layout": "IPY_MODEL_f8e69b030d5d4458b590401a4218f277",
            "max": 1,
            "min": 0,
            "orientation": "horizontal",
            "style": "IPY_MODEL_ca2fea38ade7453daf10a5523c4f79ed",
            "value": 1
          }
        },
        "2ed53d8935ac42d4857a0d6513563180": {
          "model_module": "@jupyter-widgets/controls",
          "model_name": "HTMLModel",
          "model_module_version": "1.5.0",
          "state": {
            "_dom_classes": [],
            "_model_module": "@jupyter-widgets/controls",
            "_model_module_version": "1.5.0",
            "_model_name": "HTMLModel",
            "_view_count": null,
            "_view_module": "@jupyter-widgets/controls",
            "_view_module_version": "1.5.0",
            "_view_name": "HTMLView",
            "description": "",
            "description_tooltip": null,
            "layout": "IPY_MODEL_0ba33412744342bc9cc44b7c007c294b",
            "placeholder": "​",
            "style": "IPY_MODEL_06972e7f763c4b2aae7fd75b6a569ac9",
            "value": " 1/1 [00:00&lt;00:00,  7.46it/s]"
          }
        },
        "0caecd567d8544d69f3f2e49c8e64f4c": {
          "model_module": "@jupyter-widgets/base",
          "model_name": "LayoutModel",
          "model_module_version": "1.2.0",
          "state": {
            "_model_module": "@jupyter-widgets/base",
            "_model_module_version": "1.2.0",
            "_model_name": "LayoutModel",
            "_view_count": null,
            "_view_module": "@jupyter-widgets/base",
            "_view_module_version": "1.2.0",
            "_view_name": "LayoutView",
            "align_content": null,
            "align_items": null,
            "align_self": null,
            "border": null,
            "bottom": null,
            "display": null,
            "flex": null,
            "flex_flow": null,
            "grid_area": null,
            "grid_auto_columns": null,
            "grid_auto_flow": null,
            "grid_auto_rows": null,
            "grid_column": null,
            "grid_gap": null,
            "grid_row": null,
            "grid_template_areas": null,
            "grid_template_columns": null,
            "grid_template_rows": null,
            "height": null,
            "justify_content": null,
            "justify_items": null,
            "left": null,
            "margin": null,
            "max_height": null,
            "max_width": null,
            "min_height": null,
            "min_width": null,
            "object_fit": null,
            "object_position": null,
            "order": null,
            "overflow": null,
            "overflow_x": null,
            "overflow_y": null,
            "padding": null,
            "right": null,
            "top": null,
            "visibility": null,
            "width": null
          }
        },
        "0ded0d22adfb40c4bce7c683ce9518e0": {
          "model_module": "@jupyter-widgets/base",
          "model_name": "LayoutModel",
          "model_module_version": "1.2.0",
          "state": {
            "_model_module": "@jupyter-widgets/base",
            "_model_module_version": "1.2.0",
            "_model_name": "LayoutModel",
            "_view_count": null,
            "_view_module": "@jupyter-widgets/base",
            "_view_module_version": "1.2.0",
            "_view_name": "LayoutView",
            "align_content": null,
            "align_items": null,
            "align_self": null,
            "border": null,
            "bottom": null,
            "display": null,
            "flex": null,
            "flex_flow": null,
            "grid_area": null,
            "grid_auto_columns": null,
            "grid_auto_flow": null,
            "grid_auto_rows": null,
            "grid_column": null,
            "grid_gap": null,
            "grid_row": null,
            "grid_template_areas": null,
            "grid_template_columns": null,
            "grid_template_rows": null,
            "height": null,
            "justify_content": null,
            "justify_items": null,
            "left": null,
            "margin": null,
            "max_height": null,
            "max_width": null,
            "min_height": null,
            "min_width": null,
            "object_fit": null,
            "object_position": null,
            "order": null,
            "overflow": null,
            "overflow_x": null,
            "overflow_y": null,
            "padding": null,
            "right": null,
            "top": null,
            "visibility": null,
            "width": null
          }
        },
        "1bc79e07e6ec405c955006172e41cb24": {
          "model_module": "@jupyter-widgets/controls",
          "model_name": "DescriptionStyleModel",
          "model_module_version": "1.5.0",
          "state": {
            "_model_module": "@jupyter-widgets/controls",
            "_model_module_version": "1.5.0",
            "_model_name": "DescriptionStyleModel",
            "_view_count": null,
            "_view_module": "@jupyter-widgets/base",
            "_view_module_version": "1.2.0",
            "_view_name": "StyleView",
            "description_width": ""
          }
        },
        "f8e69b030d5d4458b590401a4218f277": {
          "model_module": "@jupyter-widgets/base",
          "model_name": "LayoutModel",
          "model_module_version": "1.2.0",
          "state": {
            "_model_module": "@jupyter-widgets/base",
            "_model_module_version": "1.2.0",
            "_model_name": "LayoutModel",
            "_view_count": null,
            "_view_module": "@jupyter-widgets/base",
            "_view_module_version": "1.2.0",
            "_view_name": "LayoutView",
            "align_content": null,
            "align_items": null,
            "align_self": null,
            "border": null,
            "bottom": null,
            "display": null,
            "flex": null,
            "flex_flow": null,
            "grid_area": null,
            "grid_auto_columns": null,
            "grid_auto_flow": null,
            "grid_auto_rows": null,
            "grid_column": null,
            "grid_gap": null,
            "grid_row": null,
            "grid_template_areas": null,
            "grid_template_columns": null,
            "grid_template_rows": null,
            "height": null,
            "justify_content": null,
            "justify_items": null,
            "left": null,
            "margin": null,
            "max_height": null,
            "max_width": null,
            "min_height": null,
            "min_width": null,
            "object_fit": null,
            "object_position": null,
            "order": null,
            "overflow": null,
            "overflow_x": null,
            "overflow_y": null,
            "padding": null,
            "right": null,
            "top": null,
            "visibility": null,
            "width": null
          }
        },
        "ca2fea38ade7453daf10a5523c4f79ed": {
          "model_module": "@jupyter-widgets/controls",
          "model_name": "ProgressStyleModel",
          "model_module_version": "1.5.0",
          "state": {
            "_model_module": "@jupyter-widgets/controls",
            "_model_module_version": "1.5.0",
            "_model_name": "ProgressStyleModel",
            "_view_count": null,
            "_view_module": "@jupyter-widgets/base",
            "_view_module_version": "1.2.0",
            "_view_name": "StyleView",
            "bar_color": null,
            "description_width": ""
          }
        },
        "0ba33412744342bc9cc44b7c007c294b": {
          "model_module": "@jupyter-widgets/base",
          "model_name": "LayoutModel",
          "model_module_version": "1.2.0",
          "state": {
            "_model_module": "@jupyter-widgets/base",
            "_model_module_version": "1.2.0",
            "_model_name": "LayoutModel",
            "_view_count": null,
            "_view_module": "@jupyter-widgets/base",
            "_view_module_version": "1.2.0",
            "_view_name": "LayoutView",
            "align_content": null,
            "align_items": null,
            "align_self": null,
            "border": null,
            "bottom": null,
            "display": null,
            "flex": null,
            "flex_flow": null,
            "grid_area": null,
            "grid_auto_columns": null,
            "grid_auto_flow": null,
            "grid_auto_rows": null,
            "grid_column": null,
            "grid_gap": null,
            "grid_row": null,
            "grid_template_areas": null,
            "grid_template_columns": null,
            "grid_template_rows": null,
            "height": null,
            "justify_content": null,
            "justify_items": null,
            "left": null,
            "margin": null,
            "max_height": null,
            "max_width": null,
            "min_height": null,
            "min_width": null,
            "object_fit": null,
            "object_position": null,
            "order": null,
            "overflow": null,
            "overflow_x": null,
            "overflow_y": null,
            "padding": null,
            "right": null,
            "top": null,
            "visibility": null,
            "width": null
          }
        },
        "06972e7f763c4b2aae7fd75b6a569ac9": {
          "model_module": "@jupyter-widgets/controls",
          "model_name": "DescriptionStyleModel",
          "model_module_version": "1.5.0",
          "state": {
            "_model_module": "@jupyter-widgets/controls",
            "_model_module_version": "1.5.0",
            "_model_name": "DescriptionStyleModel",
            "_view_count": null,
            "_view_module": "@jupyter-widgets/base",
            "_view_module_version": "1.2.0",
            "_view_name": "StyleView",
            "description_width": ""
          }
        },
        "9130d43c59c5425ab1363f23204561fd": {
          "model_module": "@jupyter-widgets/controls",
          "model_name": "HBoxModel",
          "model_module_version": "1.5.0",
          "state": {
            "_dom_classes": [],
            "_model_module": "@jupyter-widgets/controls",
            "_model_module_version": "1.5.0",
            "_model_name": "HBoxModel",
            "_view_count": null,
            "_view_module": "@jupyter-widgets/controls",
            "_view_module_version": "1.5.0",
            "_view_name": "HBoxView",
            "box_style": "",
            "children": [
              "IPY_MODEL_2631e1a0b45f4038aefa7d666b66b5ca",
              "IPY_MODEL_b958c16c38534c139fb4f23d98b32a6a",
              "IPY_MODEL_bc361060c8b74fffb75bbeba3ff12b35"
            ],
            "layout": "IPY_MODEL_c2664e65f64e4e5ea75b1b28a3de4566"
          }
        },
        "2631e1a0b45f4038aefa7d666b66b5ca": {
          "model_module": "@jupyter-widgets/controls",
          "model_name": "HTMLModel",
          "model_module_version": "1.5.0",
          "state": {
            "_dom_classes": [],
            "_model_module": "@jupyter-widgets/controls",
            "_model_module_version": "1.5.0",
            "_model_name": "HTMLModel",
            "_view_count": null,
            "_view_module": "@jupyter-widgets/controls",
            "_view_module_version": "1.5.0",
            "_view_name": "HTMLView",
            "description": "",
            "description_tooltip": null,
            "layout": "IPY_MODEL_0bb3a43190fd45f4a3ace05454f2e254",
            "placeholder": "​",
            "style": "IPY_MODEL_e3a2c38246234715ac993944c8fe440b",
            "value": "100%"
          }
        },
        "b958c16c38534c139fb4f23d98b32a6a": {
          "model_module": "@jupyter-widgets/controls",
          "model_name": "FloatProgressModel",
          "model_module_version": "1.5.0",
          "state": {
            "_dom_classes": [],
            "_model_module": "@jupyter-widgets/controls",
            "_model_module_version": "1.5.0",
            "_model_name": "FloatProgressModel",
            "_view_count": null,
            "_view_module": "@jupyter-widgets/controls",
            "_view_module_version": "1.5.0",
            "_view_name": "ProgressView",
            "bar_style": "success",
            "description": "",
            "description_tooltip": null,
            "layout": "IPY_MODEL_ffeef11be3364202ba14c31a7b57f040",
            "max": 1,
            "min": 0,
            "orientation": "horizontal",
            "style": "IPY_MODEL_4d9091297553407c825080dea213d765",
            "value": 1
          }
        },
        "bc361060c8b74fffb75bbeba3ff12b35": {
          "model_module": "@jupyter-widgets/controls",
          "model_name": "HTMLModel",
          "model_module_version": "1.5.0",
          "state": {
            "_dom_classes": [],
            "_model_module": "@jupyter-widgets/controls",
            "_model_module_version": "1.5.0",
            "_model_name": "HTMLModel",
            "_view_count": null,
            "_view_module": "@jupyter-widgets/controls",
            "_view_module_version": "1.5.0",
            "_view_name": "HTMLView",
            "description": "",
            "description_tooltip": null,
            "layout": "IPY_MODEL_cc54bcdf8cb7434d8821c6f3f7f8e849",
            "placeholder": "​",
            "style": "IPY_MODEL_508d5a8b6009480784ae84163bfec7dc",
            "value": " 1/1 [00:00&lt;00:00, 10.69it/s]"
          }
        },
        "c2664e65f64e4e5ea75b1b28a3de4566": {
          "model_module": "@jupyter-widgets/base",
          "model_name": "LayoutModel",
          "model_module_version": "1.2.0",
          "state": {
            "_model_module": "@jupyter-widgets/base",
            "_model_module_version": "1.2.0",
            "_model_name": "LayoutModel",
            "_view_count": null,
            "_view_module": "@jupyter-widgets/base",
            "_view_module_version": "1.2.0",
            "_view_name": "LayoutView",
            "align_content": null,
            "align_items": null,
            "align_self": null,
            "border": null,
            "bottom": null,
            "display": null,
            "flex": null,
            "flex_flow": null,
            "grid_area": null,
            "grid_auto_columns": null,
            "grid_auto_flow": null,
            "grid_auto_rows": null,
            "grid_column": null,
            "grid_gap": null,
            "grid_row": null,
            "grid_template_areas": null,
            "grid_template_columns": null,
            "grid_template_rows": null,
            "height": null,
            "justify_content": null,
            "justify_items": null,
            "left": null,
            "margin": null,
            "max_height": null,
            "max_width": null,
            "min_height": null,
            "min_width": null,
            "object_fit": null,
            "object_position": null,
            "order": null,
            "overflow": null,
            "overflow_x": null,
            "overflow_y": null,
            "padding": null,
            "right": null,
            "top": null,
            "visibility": null,
            "width": null
          }
        },
        "0bb3a43190fd45f4a3ace05454f2e254": {
          "model_module": "@jupyter-widgets/base",
          "model_name": "LayoutModel",
          "model_module_version": "1.2.0",
          "state": {
            "_model_module": "@jupyter-widgets/base",
            "_model_module_version": "1.2.0",
            "_model_name": "LayoutModel",
            "_view_count": null,
            "_view_module": "@jupyter-widgets/base",
            "_view_module_version": "1.2.0",
            "_view_name": "LayoutView",
            "align_content": null,
            "align_items": null,
            "align_self": null,
            "border": null,
            "bottom": null,
            "display": null,
            "flex": null,
            "flex_flow": null,
            "grid_area": null,
            "grid_auto_columns": null,
            "grid_auto_flow": null,
            "grid_auto_rows": null,
            "grid_column": null,
            "grid_gap": null,
            "grid_row": null,
            "grid_template_areas": null,
            "grid_template_columns": null,
            "grid_template_rows": null,
            "height": null,
            "justify_content": null,
            "justify_items": null,
            "left": null,
            "margin": null,
            "max_height": null,
            "max_width": null,
            "min_height": null,
            "min_width": null,
            "object_fit": null,
            "object_position": null,
            "order": null,
            "overflow": null,
            "overflow_x": null,
            "overflow_y": null,
            "padding": null,
            "right": null,
            "top": null,
            "visibility": null,
            "width": null
          }
        },
        "e3a2c38246234715ac993944c8fe440b": {
          "model_module": "@jupyter-widgets/controls",
          "model_name": "DescriptionStyleModel",
          "model_module_version": "1.5.0",
          "state": {
            "_model_module": "@jupyter-widgets/controls",
            "_model_module_version": "1.5.0",
            "_model_name": "DescriptionStyleModel",
            "_view_count": null,
            "_view_module": "@jupyter-widgets/base",
            "_view_module_version": "1.2.0",
            "_view_name": "StyleView",
            "description_width": ""
          }
        },
        "ffeef11be3364202ba14c31a7b57f040": {
          "model_module": "@jupyter-widgets/base",
          "model_name": "LayoutModel",
          "model_module_version": "1.2.0",
          "state": {
            "_model_module": "@jupyter-widgets/base",
            "_model_module_version": "1.2.0",
            "_model_name": "LayoutModel",
            "_view_count": null,
            "_view_module": "@jupyter-widgets/base",
            "_view_module_version": "1.2.0",
            "_view_name": "LayoutView",
            "align_content": null,
            "align_items": null,
            "align_self": null,
            "border": null,
            "bottom": null,
            "display": null,
            "flex": null,
            "flex_flow": null,
            "grid_area": null,
            "grid_auto_columns": null,
            "grid_auto_flow": null,
            "grid_auto_rows": null,
            "grid_column": null,
            "grid_gap": null,
            "grid_row": null,
            "grid_template_areas": null,
            "grid_template_columns": null,
            "grid_template_rows": null,
            "height": null,
            "justify_content": null,
            "justify_items": null,
            "left": null,
            "margin": null,
            "max_height": null,
            "max_width": null,
            "min_height": null,
            "min_width": null,
            "object_fit": null,
            "object_position": null,
            "order": null,
            "overflow": null,
            "overflow_x": null,
            "overflow_y": null,
            "padding": null,
            "right": null,
            "top": null,
            "visibility": null,
            "width": null
          }
        },
        "4d9091297553407c825080dea213d765": {
          "model_module": "@jupyter-widgets/controls",
          "model_name": "ProgressStyleModel",
          "model_module_version": "1.5.0",
          "state": {
            "_model_module": "@jupyter-widgets/controls",
            "_model_module_version": "1.5.0",
            "_model_name": "ProgressStyleModel",
            "_view_count": null,
            "_view_module": "@jupyter-widgets/base",
            "_view_module_version": "1.2.0",
            "_view_name": "StyleView",
            "bar_color": null,
            "description_width": ""
          }
        },
        "cc54bcdf8cb7434d8821c6f3f7f8e849": {
          "model_module": "@jupyter-widgets/base",
          "model_name": "LayoutModel",
          "model_module_version": "1.2.0",
          "state": {
            "_model_module": "@jupyter-widgets/base",
            "_model_module_version": "1.2.0",
            "_model_name": "LayoutModel",
            "_view_count": null,
            "_view_module": "@jupyter-widgets/base",
            "_view_module_version": "1.2.0",
            "_view_name": "LayoutView",
            "align_content": null,
            "align_items": null,
            "align_self": null,
            "border": null,
            "bottom": null,
            "display": null,
            "flex": null,
            "flex_flow": null,
            "grid_area": null,
            "grid_auto_columns": null,
            "grid_auto_flow": null,
            "grid_auto_rows": null,
            "grid_column": null,
            "grid_gap": null,
            "grid_row": null,
            "grid_template_areas": null,
            "grid_template_columns": null,
            "grid_template_rows": null,
            "height": null,
            "justify_content": null,
            "justify_items": null,
            "left": null,
            "margin": null,
            "max_height": null,
            "max_width": null,
            "min_height": null,
            "min_width": null,
            "object_fit": null,
            "object_position": null,
            "order": null,
            "overflow": null,
            "overflow_x": null,
            "overflow_y": null,
            "padding": null,
            "right": null,
            "top": null,
            "visibility": null,
            "width": null
          }
        },
        "508d5a8b6009480784ae84163bfec7dc": {
          "model_module": "@jupyter-widgets/controls",
          "model_name": "DescriptionStyleModel",
          "model_module_version": "1.5.0",
          "state": {
            "_model_module": "@jupyter-widgets/controls",
            "_model_module_version": "1.5.0",
            "_model_name": "DescriptionStyleModel",
            "_view_count": null,
            "_view_module": "@jupyter-widgets/base",
            "_view_module_version": "1.2.0",
            "_view_name": "StyleView",
            "description_width": ""
          }
        },
        "2e955fea17894ec4bdb05c60ba943bfb": {
          "model_module": "@jupyter-widgets/controls",
          "model_name": "HBoxModel",
          "model_module_version": "1.5.0",
          "state": {
            "_dom_classes": [],
            "_model_module": "@jupyter-widgets/controls",
            "_model_module_version": "1.5.0",
            "_model_name": "HBoxModel",
            "_view_count": null,
            "_view_module": "@jupyter-widgets/controls",
            "_view_module_version": "1.5.0",
            "_view_name": "HBoxView",
            "box_style": "",
            "children": [
              "IPY_MODEL_197524934fdf4a51b625b27630e4fa25",
              "IPY_MODEL_f6620f4e3d694b90aa50fb8839d1225b",
              "IPY_MODEL_b43b5c0b6c2c44f88356f430b7839bc6"
            ],
            "layout": "IPY_MODEL_317429e27a6941ad930a25fa0f0ace59"
          }
        },
        "197524934fdf4a51b625b27630e4fa25": {
          "model_module": "@jupyter-widgets/controls",
          "model_name": "HTMLModel",
          "model_module_version": "1.5.0",
          "state": {
            "_dom_classes": [],
            "_model_module": "@jupyter-widgets/controls",
            "_model_module_version": "1.5.0",
            "_model_name": "HTMLModel",
            "_view_count": null,
            "_view_module": "@jupyter-widgets/controls",
            "_view_module_version": "1.5.0",
            "_view_name": "HTMLView",
            "description": "",
            "description_tooltip": null,
            "layout": "IPY_MODEL_1868d886a9da491a9cb0107d9d1a4e70",
            "placeholder": "​",
            "style": "IPY_MODEL_95455f6814734fbe821ca30dcd5b1a2b",
            "value": "Downloading: 100%"
          }
        },
        "f6620f4e3d694b90aa50fb8839d1225b": {
          "model_module": "@jupyter-widgets/controls",
          "model_name": "FloatProgressModel",
          "model_module_version": "1.5.0",
          "state": {
            "_dom_classes": [],
            "_model_module": "@jupyter-widgets/controls",
            "_model_module_version": "1.5.0",
            "_model_name": "FloatProgressModel",
            "_view_count": null,
            "_view_module": "@jupyter-widgets/controls",
            "_view_module_version": "1.5.0",
            "_view_name": "ProgressView",
            "bar_style": "success",
            "description": "",
            "description_tooltip": null,
            "layout": "IPY_MODEL_95fad011cf6d4f248db5aec4f07367c5",
            "max": 3094,
            "min": 0,
            "orientation": "horizontal",
            "style": "IPY_MODEL_7ee5ccee13f348e89a488f215c5dd974",
            "value": 3094
          }
        },
        "b43b5c0b6c2c44f88356f430b7839bc6": {
          "model_module": "@jupyter-widgets/controls",
          "model_name": "HTMLModel",
          "model_module_version": "1.5.0",
          "state": {
            "_dom_classes": [],
            "_model_module": "@jupyter-widgets/controls",
            "_model_module_version": "1.5.0",
            "_model_name": "HTMLModel",
            "_view_count": null,
            "_view_module": "@jupyter-widgets/controls",
            "_view_module_version": "1.5.0",
            "_view_name": "HTMLView",
            "description": "",
            "description_tooltip": null,
            "layout": "IPY_MODEL_216079fda2914854a6cc42e664bdd945",
            "placeholder": "​",
            "style": "IPY_MODEL_ba9cac5bd5784ea1968713c6eeaf264f",
            "value": " 3.02k/3.02k [00:00&lt;00:00, 88.0kB/s]"
          }
        },
        "317429e27a6941ad930a25fa0f0ace59": {
          "model_module": "@jupyter-widgets/base",
          "model_name": "LayoutModel",
          "model_module_version": "1.2.0",
          "state": {
            "_model_module": "@jupyter-widgets/base",
            "_model_module_version": "1.2.0",
            "_model_name": "LayoutModel",
            "_view_count": null,
            "_view_module": "@jupyter-widgets/base",
            "_view_module_version": "1.2.0",
            "_view_name": "LayoutView",
            "align_content": null,
            "align_items": null,
            "align_self": null,
            "border": null,
            "bottom": null,
            "display": null,
            "flex": null,
            "flex_flow": null,
            "grid_area": null,
            "grid_auto_columns": null,
            "grid_auto_flow": null,
            "grid_auto_rows": null,
            "grid_column": null,
            "grid_gap": null,
            "grid_row": null,
            "grid_template_areas": null,
            "grid_template_columns": null,
            "grid_template_rows": null,
            "height": null,
            "justify_content": null,
            "justify_items": null,
            "left": null,
            "margin": null,
            "max_height": null,
            "max_width": null,
            "min_height": null,
            "min_width": null,
            "object_fit": null,
            "object_position": null,
            "order": null,
            "overflow": null,
            "overflow_x": null,
            "overflow_y": null,
            "padding": null,
            "right": null,
            "top": null,
            "visibility": null,
            "width": null
          }
        },
        "1868d886a9da491a9cb0107d9d1a4e70": {
          "model_module": "@jupyter-widgets/base",
          "model_name": "LayoutModel",
          "model_module_version": "1.2.0",
          "state": {
            "_model_module": "@jupyter-widgets/base",
            "_model_module_version": "1.2.0",
            "_model_name": "LayoutModel",
            "_view_count": null,
            "_view_module": "@jupyter-widgets/base",
            "_view_module_version": "1.2.0",
            "_view_name": "LayoutView",
            "align_content": null,
            "align_items": null,
            "align_self": null,
            "border": null,
            "bottom": null,
            "display": null,
            "flex": null,
            "flex_flow": null,
            "grid_area": null,
            "grid_auto_columns": null,
            "grid_auto_flow": null,
            "grid_auto_rows": null,
            "grid_column": null,
            "grid_gap": null,
            "grid_row": null,
            "grid_template_areas": null,
            "grid_template_columns": null,
            "grid_template_rows": null,
            "height": null,
            "justify_content": null,
            "justify_items": null,
            "left": null,
            "margin": null,
            "max_height": null,
            "max_width": null,
            "min_height": null,
            "min_width": null,
            "object_fit": null,
            "object_position": null,
            "order": null,
            "overflow": null,
            "overflow_x": null,
            "overflow_y": null,
            "padding": null,
            "right": null,
            "top": null,
            "visibility": null,
            "width": null
          }
        },
        "95455f6814734fbe821ca30dcd5b1a2b": {
          "model_module": "@jupyter-widgets/controls",
          "model_name": "DescriptionStyleModel",
          "model_module_version": "1.5.0",
          "state": {
            "_model_module": "@jupyter-widgets/controls",
            "_model_module_version": "1.5.0",
            "_model_name": "DescriptionStyleModel",
            "_view_count": null,
            "_view_module": "@jupyter-widgets/base",
            "_view_module_version": "1.2.0",
            "_view_name": "StyleView",
            "description_width": ""
          }
        },
        "95fad011cf6d4f248db5aec4f07367c5": {
          "model_module": "@jupyter-widgets/base",
          "model_name": "LayoutModel",
          "model_module_version": "1.2.0",
          "state": {
            "_model_module": "@jupyter-widgets/base",
            "_model_module_version": "1.2.0",
            "_model_name": "LayoutModel",
            "_view_count": null,
            "_view_module": "@jupyter-widgets/base",
            "_view_module_version": "1.2.0",
            "_view_name": "LayoutView",
            "align_content": null,
            "align_items": null,
            "align_self": null,
            "border": null,
            "bottom": null,
            "display": null,
            "flex": null,
            "flex_flow": null,
            "grid_area": null,
            "grid_auto_columns": null,
            "grid_auto_flow": null,
            "grid_auto_rows": null,
            "grid_column": null,
            "grid_gap": null,
            "grid_row": null,
            "grid_template_areas": null,
            "grid_template_columns": null,
            "grid_template_rows": null,
            "height": null,
            "justify_content": null,
            "justify_items": null,
            "left": null,
            "margin": null,
            "max_height": null,
            "max_width": null,
            "min_height": null,
            "min_width": null,
            "object_fit": null,
            "object_position": null,
            "order": null,
            "overflow": null,
            "overflow_x": null,
            "overflow_y": null,
            "padding": null,
            "right": null,
            "top": null,
            "visibility": null,
            "width": null
          }
        },
        "7ee5ccee13f348e89a488f215c5dd974": {
          "model_module": "@jupyter-widgets/controls",
          "model_name": "ProgressStyleModel",
          "model_module_version": "1.5.0",
          "state": {
            "_model_module": "@jupyter-widgets/controls",
            "_model_module_version": "1.5.0",
            "_model_name": "ProgressStyleModel",
            "_view_count": null,
            "_view_module": "@jupyter-widgets/base",
            "_view_module_version": "1.2.0",
            "_view_name": "StyleView",
            "bar_color": null,
            "description_width": ""
          }
        },
        "216079fda2914854a6cc42e664bdd945": {
          "model_module": "@jupyter-widgets/base",
          "model_name": "LayoutModel",
          "model_module_version": "1.2.0",
          "state": {
            "_model_module": "@jupyter-widgets/base",
            "_model_module_version": "1.2.0",
            "_model_name": "LayoutModel",
            "_view_count": null,
            "_view_module": "@jupyter-widgets/base",
            "_view_module_version": "1.2.0",
            "_view_name": "LayoutView",
            "align_content": null,
            "align_items": null,
            "align_self": null,
            "border": null,
            "bottom": null,
            "display": null,
            "flex": null,
            "flex_flow": null,
            "grid_area": null,
            "grid_auto_columns": null,
            "grid_auto_flow": null,
            "grid_auto_rows": null,
            "grid_column": null,
            "grid_gap": null,
            "grid_row": null,
            "grid_template_areas": null,
            "grid_template_columns": null,
            "grid_template_rows": null,
            "height": null,
            "justify_content": null,
            "justify_items": null,
            "left": null,
            "margin": null,
            "max_height": null,
            "max_width": null,
            "min_height": null,
            "min_width": null,
            "object_fit": null,
            "object_position": null,
            "order": null,
            "overflow": null,
            "overflow_x": null,
            "overflow_y": null,
            "padding": null,
            "right": null,
            "top": null,
            "visibility": null,
            "width": null
          }
        },
        "ba9cac5bd5784ea1968713c6eeaf264f": {
          "model_module": "@jupyter-widgets/controls",
          "model_name": "DescriptionStyleModel",
          "model_module_version": "1.5.0",
          "state": {
            "_model_module": "@jupyter-widgets/controls",
            "_model_module_version": "1.5.0",
            "_model_name": "DescriptionStyleModel",
            "_view_count": null,
            "_view_module": "@jupyter-widgets/base",
            "_view_module_version": "1.2.0",
            "_view_name": "StyleView",
            "description_width": ""
          }
        },
        "0d74067dc824420cb9ec6eb657c00da6": {
          "model_module": "@jupyter-widgets/controls",
          "model_name": "HBoxModel",
          "model_module_version": "1.5.0",
          "state": {
            "_dom_classes": [],
            "_model_module": "@jupyter-widgets/controls",
            "_model_module_version": "1.5.0",
            "_model_name": "HBoxModel",
            "_view_count": null,
            "_view_module": "@jupyter-widgets/controls",
            "_view_module_version": "1.5.0",
            "_view_name": "HBoxView",
            "box_style": "",
            "children": [
              "IPY_MODEL_851e18de388e48f38e481ba5d317ac42",
              "IPY_MODEL_faef7bf3c78d463dbdf45e757a44c958",
              "IPY_MODEL_28c73e72858a40dbb0e27a77aec769ad"
            ],
            "layout": "IPY_MODEL_a91462c02c704a3b9565950d73d65834"
          }
        },
        "851e18de388e48f38e481ba5d317ac42": {
          "model_module": "@jupyter-widgets/controls",
          "model_name": "HTMLModel",
          "model_module_version": "1.5.0",
          "state": {
            "_dom_classes": [],
            "_model_module": "@jupyter-widgets/controls",
            "_model_module_version": "1.5.0",
            "_model_name": "HTMLModel",
            "_view_count": null,
            "_view_module": "@jupyter-widgets/controls",
            "_view_module_version": "1.5.0",
            "_view_name": "HTMLView",
            "description": "",
            "description_tooltip": null,
            "layout": "IPY_MODEL_d145b04223a24bf0bb88cfd503cd1adc",
            "placeholder": "​",
            "style": "IPY_MODEL_f42b5fa768544e0ba655dbd393beb13f",
            "value": "Downloading: 100%"
          }
        },
        "faef7bf3c78d463dbdf45e757a44c958": {
          "model_module": "@jupyter-widgets/controls",
          "model_name": "FloatProgressModel",
          "model_module_version": "1.5.0",
          "state": {
            "_dom_classes": [],
            "_model_module": "@jupyter-widgets/controls",
            "_model_module_version": "1.5.0",
            "_model_name": "FloatProgressModel",
            "_view_count": null,
            "_view_module": "@jupyter-widgets/controls",
            "_view_module_version": "1.5.0",
            "_view_name": "ProgressView",
            "bar_style": "success",
            "description": "",
            "description_tooltip": null,
            "layout": "IPY_MODEL_c65409966a65496d98880688b9a485d5",
            "max": 2275327883,
            "min": 0,
            "orientation": "horizontal",
            "style": "IPY_MODEL_000fa55bcbee4135b28b827a0d051d8c",
            "value": 2275327883
          }
        },
        "28c73e72858a40dbb0e27a77aec769ad": {
          "model_module": "@jupyter-widgets/controls",
          "model_name": "HTMLModel",
          "model_module_version": "1.5.0",
          "state": {
            "_dom_classes": [],
            "_model_module": "@jupyter-widgets/controls",
            "_model_module_version": "1.5.0",
            "_model_name": "HTMLModel",
            "_view_count": null,
            "_view_module": "@jupyter-widgets/controls",
            "_view_module_version": "1.5.0",
            "_view_name": "HTMLView",
            "description": "",
            "description_tooltip": null,
            "layout": "IPY_MODEL_44b969394a4a41d29891cb54ad4fddf0",
            "placeholder": "​",
            "style": "IPY_MODEL_d23c31c7929a4af3b8f836d229696aab",
            "value": " 2.12G/2.12G [00:43&lt;00:00, 49.2MB/s]"
          }
        },
        "a91462c02c704a3b9565950d73d65834": {
          "model_module": "@jupyter-widgets/base",
          "model_name": "LayoutModel",
          "model_module_version": "1.2.0",
          "state": {
            "_model_module": "@jupyter-widgets/base",
            "_model_module_version": "1.2.0",
            "_model_name": "LayoutModel",
            "_view_count": null,
            "_view_module": "@jupyter-widgets/base",
            "_view_module_version": "1.2.0",
            "_view_name": "LayoutView",
            "align_content": null,
            "align_items": null,
            "align_self": null,
            "border": null,
            "bottom": null,
            "display": null,
            "flex": null,
            "flex_flow": null,
            "grid_area": null,
            "grid_auto_columns": null,
            "grid_auto_flow": null,
            "grid_auto_rows": null,
            "grid_column": null,
            "grid_gap": null,
            "grid_row": null,
            "grid_template_areas": null,
            "grid_template_columns": null,
            "grid_template_rows": null,
            "height": null,
            "justify_content": null,
            "justify_items": null,
            "left": null,
            "margin": null,
            "max_height": null,
            "max_width": null,
            "min_height": null,
            "min_width": null,
            "object_fit": null,
            "object_position": null,
            "order": null,
            "overflow": null,
            "overflow_x": null,
            "overflow_y": null,
            "padding": null,
            "right": null,
            "top": null,
            "visibility": null,
            "width": null
          }
        },
        "d145b04223a24bf0bb88cfd503cd1adc": {
          "model_module": "@jupyter-widgets/base",
          "model_name": "LayoutModel",
          "model_module_version": "1.2.0",
          "state": {
            "_model_module": "@jupyter-widgets/base",
            "_model_module_version": "1.2.0",
            "_model_name": "LayoutModel",
            "_view_count": null,
            "_view_module": "@jupyter-widgets/base",
            "_view_module_version": "1.2.0",
            "_view_name": "LayoutView",
            "align_content": null,
            "align_items": null,
            "align_self": null,
            "border": null,
            "bottom": null,
            "display": null,
            "flex": null,
            "flex_flow": null,
            "grid_area": null,
            "grid_auto_columns": null,
            "grid_auto_flow": null,
            "grid_auto_rows": null,
            "grid_column": null,
            "grid_gap": null,
            "grid_row": null,
            "grid_template_areas": null,
            "grid_template_columns": null,
            "grid_template_rows": null,
            "height": null,
            "justify_content": null,
            "justify_items": null,
            "left": null,
            "margin": null,
            "max_height": null,
            "max_width": null,
            "min_height": null,
            "min_width": null,
            "object_fit": null,
            "object_position": null,
            "order": null,
            "overflow": null,
            "overflow_x": null,
            "overflow_y": null,
            "padding": null,
            "right": null,
            "top": null,
            "visibility": null,
            "width": null
          }
        },
        "f42b5fa768544e0ba655dbd393beb13f": {
          "model_module": "@jupyter-widgets/controls",
          "model_name": "DescriptionStyleModel",
          "model_module_version": "1.5.0",
          "state": {
            "_model_module": "@jupyter-widgets/controls",
            "_model_module_version": "1.5.0",
            "_model_name": "DescriptionStyleModel",
            "_view_count": null,
            "_view_module": "@jupyter-widgets/base",
            "_view_module_version": "1.2.0",
            "_view_name": "StyleView",
            "description_width": ""
          }
        },
        "c65409966a65496d98880688b9a485d5": {
          "model_module": "@jupyter-widgets/base",
          "model_name": "LayoutModel",
          "model_module_version": "1.2.0",
          "state": {
            "_model_module": "@jupyter-widgets/base",
            "_model_module_version": "1.2.0",
            "_model_name": "LayoutModel",
            "_view_count": null,
            "_view_module": "@jupyter-widgets/base",
            "_view_module_version": "1.2.0",
            "_view_name": "LayoutView",
            "align_content": null,
            "align_items": null,
            "align_self": null,
            "border": null,
            "bottom": null,
            "display": null,
            "flex": null,
            "flex_flow": null,
            "grid_area": null,
            "grid_auto_columns": null,
            "grid_auto_flow": null,
            "grid_auto_rows": null,
            "grid_column": null,
            "grid_gap": null,
            "grid_row": null,
            "grid_template_areas": null,
            "grid_template_columns": null,
            "grid_template_rows": null,
            "height": null,
            "justify_content": null,
            "justify_items": null,
            "left": null,
            "margin": null,
            "max_height": null,
            "max_width": null,
            "min_height": null,
            "min_width": null,
            "object_fit": null,
            "object_position": null,
            "order": null,
            "overflow": null,
            "overflow_x": null,
            "overflow_y": null,
            "padding": null,
            "right": null,
            "top": null,
            "visibility": null,
            "width": null
          }
        },
        "000fa55bcbee4135b28b827a0d051d8c": {
          "model_module": "@jupyter-widgets/controls",
          "model_name": "ProgressStyleModel",
          "model_module_version": "1.5.0",
          "state": {
            "_model_module": "@jupyter-widgets/controls",
            "_model_module_version": "1.5.0",
            "_model_name": "ProgressStyleModel",
            "_view_count": null,
            "_view_module": "@jupyter-widgets/base",
            "_view_module_version": "1.2.0",
            "_view_name": "StyleView",
            "bar_color": null,
            "description_width": ""
          }
        },
        "44b969394a4a41d29891cb54ad4fddf0": {
          "model_module": "@jupyter-widgets/base",
          "model_name": "LayoutModel",
          "model_module_version": "1.2.0",
          "state": {
            "_model_module": "@jupyter-widgets/base",
            "_model_module_version": "1.2.0",
            "_model_name": "LayoutModel",
            "_view_count": null,
            "_view_module": "@jupyter-widgets/base",
            "_view_module_version": "1.2.0",
            "_view_name": "LayoutView",
            "align_content": null,
            "align_items": null,
            "align_self": null,
            "border": null,
            "bottom": null,
            "display": null,
            "flex": null,
            "flex_flow": null,
            "grid_area": null,
            "grid_auto_columns": null,
            "grid_auto_flow": null,
            "grid_auto_rows": null,
            "grid_column": null,
            "grid_gap": null,
            "grid_row": null,
            "grid_template_areas": null,
            "grid_template_columns": null,
            "grid_template_rows": null,
            "height": null,
            "justify_content": null,
            "justify_items": null,
            "left": null,
            "margin": null,
            "max_height": null,
            "max_width": null,
            "min_height": null,
            "min_width": null,
            "object_fit": null,
            "object_position": null,
            "order": null,
            "overflow": null,
            "overflow_x": null,
            "overflow_y": null,
            "padding": null,
            "right": null,
            "top": null,
            "visibility": null,
            "width": null
          }
        },
        "d23c31c7929a4af3b8f836d229696aab": {
          "model_module": "@jupyter-widgets/controls",
          "model_name": "DescriptionStyleModel",
          "model_module_version": "1.5.0",
          "state": {
            "_model_module": "@jupyter-widgets/controls",
            "_model_module_version": "1.5.0",
            "_model_name": "DescriptionStyleModel",
            "_view_count": null,
            "_view_module": "@jupyter-widgets/base",
            "_view_module_version": "1.2.0",
            "_view_name": "StyleView",
            "description_width": ""
          }
        },
        "6304d48f50664e008be69cf47db472d2": {
          "model_module": "@jupyter-widgets/controls",
          "model_name": "HBoxModel",
          "model_module_version": "1.5.0",
          "state": {
            "_dom_classes": [],
            "_model_module": "@jupyter-widgets/controls",
            "_model_module_version": "1.5.0",
            "_model_name": "HBoxModel",
            "_view_count": null,
            "_view_module": "@jupyter-widgets/controls",
            "_view_module_version": "1.5.0",
            "_view_name": "HBoxView",
            "box_style": "",
            "children": [
              "IPY_MODEL_49c7ae0341164e0281d4295d327e1b19",
              "IPY_MODEL_97494bdbd0744abcb701933fcccb4a25",
              "IPY_MODEL_cea64e5a98fa427487a887c47b400ae1"
            ],
            "layout": "IPY_MODEL_1f637df793654e4888d1af605e002543"
          }
        },
        "49c7ae0341164e0281d4295d327e1b19": {
          "model_module": "@jupyter-widgets/controls",
          "model_name": "HTMLModel",
          "model_module_version": "1.5.0",
          "state": {
            "_dom_classes": [],
            "_model_module": "@jupyter-widgets/controls",
            "_model_module_version": "1.5.0",
            "_model_name": "HTMLModel",
            "_view_count": null,
            "_view_module": "@jupyter-widgets/controls",
            "_view_module_version": "1.5.0",
            "_view_name": "HTMLView",
            "description": "",
            "description_tooltip": null,
            "layout": "IPY_MODEL_02e178a415af40c3912063917d058559",
            "placeholder": "​",
            "style": "IPY_MODEL_b8da919a66a74c23852ad5e99dbb85d9",
            "value": "Downloading: 100%"
          }
        },
        "97494bdbd0744abcb701933fcccb4a25": {
          "model_module": "@jupyter-widgets/controls",
          "model_name": "FloatProgressModel",
          "model_module_version": "1.5.0",
          "state": {
            "_dom_classes": [],
            "_model_module": "@jupyter-widgets/controls",
            "_model_module_version": "1.5.0",
            "_model_name": "FloatProgressModel",
            "_view_count": null,
            "_view_module": "@jupyter-widgets/controls",
            "_view_module_version": "1.5.0",
            "_view_name": "ProgressView",
            "bar_style": "success",
            "description": "",
            "description_tooltip": null,
            "layout": "IPY_MODEL_8ff4b391c76f47299d647da6ac22ac7d",
            "max": 1912529,
            "min": 0,
            "orientation": "horizontal",
            "style": "IPY_MODEL_bf19b07c0156480c834adcb8f58188ac",
            "value": 1912529
          }
        },
        "cea64e5a98fa427487a887c47b400ae1": {
          "model_module": "@jupyter-widgets/controls",
          "model_name": "HTMLModel",
          "model_module_version": "1.5.0",
          "state": {
            "_dom_classes": [],
            "_model_module": "@jupyter-widgets/controls",
            "_model_module_version": "1.5.0",
            "_model_name": "HTMLModel",
            "_view_count": null,
            "_view_module": "@jupyter-widgets/controls",
            "_view_module_version": "1.5.0",
            "_view_name": "HTMLView",
            "description": "",
            "description_tooltip": null,
            "layout": "IPY_MODEL_60274f2300a84656b20b7a4575ad86ab",
            "placeholder": "​",
            "style": "IPY_MODEL_4c1911132f9c45a4bd8c1d901a379337",
            "value": " 1.82M/1.82M [00:00&lt;00:00, 1.31MB/s]"
          }
        },
        "1f637df793654e4888d1af605e002543": {
          "model_module": "@jupyter-widgets/base",
          "model_name": "LayoutModel",
          "model_module_version": "1.2.0",
          "state": {
            "_model_module": "@jupyter-widgets/base",
            "_model_module_version": "1.2.0",
            "_model_name": "LayoutModel",
            "_view_count": null,
            "_view_module": "@jupyter-widgets/base",
            "_view_module_version": "1.2.0",
            "_view_name": "LayoutView",
            "align_content": null,
            "align_items": null,
            "align_self": null,
            "border": null,
            "bottom": null,
            "display": null,
            "flex": null,
            "flex_flow": null,
            "grid_area": null,
            "grid_auto_columns": null,
            "grid_auto_flow": null,
            "grid_auto_rows": null,
            "grid_column": null,
            "grid_gap": null,
            "grid_row": null,
            "grid_template_areas": null,
            "grid_template_columns": null,
            "grid_template_rows": null,
            "height": null,
            "justify_content": null,
            "justify_items": null,
            "left": null,
            "margin": null,
            "max_height": null,
            "max_width": null,
            "min_height": null,
            "min_width": null,
            "object_fit": null,
            "object_position": null,
            "order": null,
            "overflow": null,
            "overflow_x": null,
            "overflow_y": null,
            "padding": null,
            "right": null,
            "top": null,
            "visibility": null,
            "width": null
          }
        },
        "02e178a415af40c3912063917d058559": {
          "model_module": "@jupyter-widgets/base",
          "model_name": "LayoutModel",
          "model_module_version": "1.2.0",
          "state": {
            "_model_module": "@jupyter-widgets/base",
            "_model_module_version": "1.2.0",
            "_model_name": "LayoutModel",
            "_view_count": null,
            "_view_module": "@jupyter-widgets/base",
            "_view_module_version": "1.2.0",
            "_view_name": "LayoutView",
            "align_content": null,
            "align_items": null,
            "align_self": null,
            "border": null,
            "bottom": null,
            "display": null,
            "flex": null,
            "flex_flow": null,
            "grid_area": null,
            "grid_auto_columns": null,
            "grid_auto_flow": null,
            "grid_auto_rows": null,
            "grid_column": null,
            "grid_gap": null,
            "grid_row": null,
            "grid_template_areas": null,
            "grid_template_columns": null,
            "grid_template_rows": null,
            "height": null,
            "justify_content": null,
            "justify_items": null,
            "left": null,
            "margin": null,
            "max_height": null,
            "max_width": null,
            "min_height": null,
            "min_width": null,
            "object_fit": null,
            "object_position": null,
            "order": null,
            "overflow": null,
            "overflow_x": null,
            "overflow_y": null,
            "padding": null,
            "right": null,
            "top": null,
            "visibility": null,
            "width": null
          }
        },
        "b8da919a66a74c23852ad5e99dbb85d9": {
          "model_module": "@jupyter-widgets/controls",
          "model_name": "DescriptionStyleModel",
          "model_module_version": "1.5.0",
          "state": {
            "_model_module": "@jupyter-widgets/controls",
            "_model_module_version": "1.5.0",
            "_model_name": "DescriptionStyleModel",
            "_view_count": null,
            "_view_module": "@jupyter-widgets/base",
            "_view_module_version": "1.2.0",
            "_view_name": "StyleView",
            "description_width": ""
          }
        },
        "8ff4b391c76f47299d647da6ac22ac7d": {
          "model_module": "@jupyter-widgets/base",
          "model_name": "LayoutModel",
          "model_module_version": "1.2.0",
          "state": {
            "_model_module": "@jupyter-widgets/base",
            "_model_module_version": "1.2.0",
            "_model_name": "LayoutModel",
            "_view_count": null,
            "_view_module": "@jupyter-widgets/base",
            "_view_module_version": "1.2.0",
            "_view_name": "LayoutView",
            "align_content": null,
            "align_items": null,
            "align_self": null,
            "border": null,
            "bottom": null,
            "display": null,
            "flex": null,
            "flex_flow": null,
            "grid_area": null,
            "grid_auto_columns": null,
            "grid_auto_flow": null,
            "grid_auto_rows": null,
            "grid_column": null,
            "grid_gap": null,
            "grid_row": null,
            "grid_template_areas": null,
            "grid_template_columns": null,
            "grid_template_rows": null,
            "height": null,
            "justify_content": null,
            "justify_items": null,
            "left": null,
            "margin": null,
            "max_height": null,
            "max_width": null,
            "min_height": null,
            "min_width": null,
            "object_fit": null,
            "object_position": null,
            "order": null,
            "overflow": null,
            "overflow_x": null,
            "overflow_y": null,
            "padding": null,
            "right": null,
            "top": null,
            "visibility": null,
            "width": null
          }
        },
        "bf19b07c0156480c834adcb8f58188ac": {
          "model_module": "@jupyter-widgets/controls",
          "model_name": "ProgressStyleModel",
          "model_module_version": "1.5.0",
          "state": {
            "_model_module": "@jupyter-widgets/controls",
            "_model_module_version": "1.5.0",
            "_model_name": "ProgressStyleModel",
            "_view_count": null,
            "_view_module": "@jupyter-widgets/base",
            "_view_module_version": "1.2.0",
            "_view_name": "StyleView",
            "bar_color": null,
            "description_width": ""
          }
        },
        "60274f2300a84656b20b7a4575ad86ab": {
          "model_module": "@jupyter-widgets/base",
          "model_name": "LayoutModel",
          "model_module_version": "1.2.0",
          "state": {
            "_model_module": "@jupyter-widgets/base",
            "_model_module_version": "1.2.0",
            "_model_name": "LayoutModel",
            "_view_count": null,
            "_view_module": "@jupyter-widgets/base",
            "_view_module_version": "1.2.0",
            "_view_name": "LayoutView",
            "align_content": null,
            "align_items": null,
            "align_self": null,
            "border": null,
            "bottom": null,
            "display": null,
            "flex": null,
            "flex_flow": null,
            "grid_area": null,
            "grid_auto_columns": null,
            "grid_auto_flow": null,
            "grid_auto_rows": null,
            "grid_column": null,
            "grid_gap": null,
            "grid_row": null,
            "grid_template_areas": null,
            "grid_template_columns": null,
            "grid_template_rows": null,
            "height": null,
            "justify_content": null,
            "justify_items": null,
            "left": null,
            "margin": null,
            "max_height": null,
            "max_width": null,
            "min_height": null,
            "min_width": null,
            "object_fit": null,
            "object_position": null,
            "order": null,
            "overflow": null,
            "overflow_x": null,
            "overflow_y": null,
            "padding": null,
            "right": null,
            "top": null,
            "visibility": null,
            "width": null
          }
        },
        "4c1911132f9c45a4bd8c1d901a379337": {
          "model_module": "@jupyter-widgets/controls",
          "model_name": "DescriptionStyleModel",
          "model_module_version": "1.5.0",
          "state": {
            "_model_module": "@jupyter-widgets/controls",
            "_model_module_version": "1.5.0",
            "_model_name": "DescriptionStyleModel",
            "_view_count": null,
            "_view_module": "@jupyter-widgets/base",
            "_view_module_version": "1.2.0",
            "_view_name": "StyleView",
            "description_width": ""
          }
        },
        "e0ba89e0055f4a9ba758b2c19afda835": {
          "model_module": "@jupyter-widgets/controls",
          "model_name": "HBoxModel",
          "model_module_version": "1.5.0",
          "state": {
            "_dom_classes": [],
            "_model_module": "@jupyter-widgets/controls",
            "_model_module_version": "1.5.0",
            "_model_name": "HBoxModel",
            "_view_count": null,
            "_view_module": "@jupyter-widgets/controls",
            "_view_module_version": "1.5.0",
            "_view_name": "HBoxView",
            "box_style": "",
            "children": [
              "IPY_MODEL_870441674add42fbbf23a8914526c45c",
              "IPY_MODEL_7f462361406949dab61a65c9856b307e",
              "IPY_MODEL_187d40f01fe044e3925312ec5b432d44"
            ],
            "layout": "IPY_MODEL_a9fcd089d3144356820eb295d3e01615"
          }
        },
        "870441674add42fbbf23a8914526c45c": {
          "model_module": "@jupyter-widgets/controls",
          "model_name": "HTMLModel",
          "model_module_version": "1.5.0",
          "state": {
            "_dom_classes": [],
            "_model_module": "@jupyter-widgets/controls",
            "_model_module_version": "1.5.0",
            "_model_name": "HTMLModel",
            "_view_count": null,
            "_view_module": "@jupyter-widgets/controls",
            "_view_module_version": "1.5.0",
            "_view_name": "HTMLView",
            "description": "",
            "description_tooltip": null,
            "layout": "IPY_MODEL_a75f9ecaca3640239474865af5de2a6b",
            "placeholder": "​",
            "style": "IPY_MODEL_e2598f223b4d43fdb0bbbf1472cb39b0",
            "value": "Downloading: 100%"
          }
        },
        "7f462361406949dab61a65c9856b307e": {
          "model_module": "@jupyter-widgets/controls",
          "model_name": "FloatProgressModel",
          "model_module_version": "1.5.0",
          "state": {
            "_dom_classes": [],
            "_model_module": "@jupyter-widgets/controls",
            "_model_module_version": "1.5.0",
            "_model_name": "FloatProgressModel",
            "_view_count": null,
            "_view_module": "@jupyter-widgets/controls",
            "_view_module_version": "1.5.0",
            "_view_name": "ProgressView",
            "bar_style": "success",
            "description": "",
            "description_tooltip": null,
            "layout": "IPY_MODEL_c165ebbcdc694401af39bdc06b846109",
            "max": 65,
            "min": 0,
            "orientation": "horizontal",
            "style": "IPY_MODEL_f568b226a4fb4e7da0239be0ec7caeb6",
            "value": 65
          }
        },
        "187d40f01fe044e3925312ec5b432d44": {
          "model_module": "@jupyter-widgets/controls",
          "model_name": "HTMLModel",
          "model_module_version": "1.5.0",
          "state": {
            "_dom_classes": [],
            "_model_module": "@jupyter-widgets/controls",
            "_model_module_version": "1.5.0",
            "_model_name": "HTMLModel",
            "_view_count": null,
            "_view_module": "@jupyter-widgets/controls",
            "_view_module_version": "1.5.0",
            "_view_name": "HTMLView",
            "description": "",
            "description_tooltip": null,
            "layout": "IPY_MODEL_f27767a61588430e9ff4f043aef10a03",
            "placeholder": "​",
            "style": "IPY_MODEL_feaebc819b8a45b79b0c02e91027fab9",
            "value": " 65.0/65.0 [00:01&lt;00:00, 49.8B/s]"
          }
        },
        "a9fcd089d3144356820eb295d3e01615": {
          "model_module": "@jupyter-widgets/base",
          "model_name": "LayoutModel",
          "model_module_version": "1.2.0",
          "state": {
            "_model_module": "@jupyter-widgets/base",
            "_model_module_version": "1.2.0",
            "_model_name": "LayoutModel",
            "_view_count": null,
            "_view_module": "@jupyter-widgets/base",
            "_view_module_version": "1.2.0",
            "_view_name": "LayoutView",
            "align_content": null,
            "align_items": null,
            "align_self": null,
            "border": null,
            "bottom": null,
            "display": null,
            "flex": null,
            "flex_flow": null,
            "grid_area": null,
            "grid_auto_columns": null,
            "grid_auto_flow": null,
            "grid_auto_rows": null,
            "grid_column": null,
            "grid_gap": null,
            "grid_row": null,
            "grid_template_areas": null,
            "grid_template_columns": null,
            "grid_template_rows": null,
            "height": null,
            "justify_content": null,
            "justify_items": null,
            "left": null,
            "margin": null,
            "max_height": null,
            "max_width": null,
            "min_height": null,
            "min_width": null,
            "object_fit": null,
            "object_position": null,
            "order": null,
            "overflow": null,
            "overflow_x": null,
            "overflow_y": null,
            "padding": null,
            "right": null,
            "top": null,
            "visibility": null,
            "width": null
          }
        },
        "a75f9ecaca3640239474865af5de2a6b": {
          "model_module": "@jupyter-widgets/base",
          "model_name": "LayoutModel",
          "model_module_version": "1.2.0",
          "state": {
            "_model_module": "@jupyter-widgets/base",
            "_model_module_version": "1.2.0",
            "_model_name": "LayoutModel",
            "_view_count": null,
            "_view_module": "@jupyter-widgets/base",
            "_view_module_version": "1.2.0",
            "_view_name": "LayoutView",
            "align_content": null,
            "align_items": null,
            "align_self": null,
            "border": null,
            "bottom": null,
            "display": null,
            "flex": null,
            "flex_flow": null,
            "grid_area": null,
            "grid_auto_columns": null,
            "grid_auto_flow": null,
            "grid_auto_rows": null,
            "grid_column": null,
            "grid_gap": null,
            "grid_row": null,
            "grid_template_areas": null,
            "grid_template_columns": null,
            "grid_template_rows": null,
            "height": null,
            "justify_content": null,
            "justify_items": null,
            "left": null,
            "margin": null,
            "max_height": null,
            "max_width": null,
            "min_height": null,
            "min_width": null,
            "object_fit": null,
            "object_position": null,
            "order": null,
            "overflow": null,
            "overflow_x": null,
            "overflow_y": null,
            "padding": null,
            "right": null,
            "top": null,
            "visibility": null,
            "width": null
          }
        },
        "e2598f223b4d43fdb0bbbf1472cb39b0": {
          "model_module": "@jupyter-widgets/controls",
          "model_name": "DescriptionStyleModel",
          "model_module_version": "1.5.0",
          "state": {
            "_model_module": "@jupyter-widgets/controls",
            "_model_module_version": "1.5.0",
            "_model_name": "DescriptionStyleModel",
            "_view_count": null,
            "_view_module": "@jupyter-widgets/base",
            "_view_module_version": "1.2.0",
            "_view_name": "StyleView",
            "description_width": ""
          }
        },
        "c165ebbcdc694401af39bdc06b846109": {
          "model_module": "@jupyter-widgets/base",
          "model_name": "LayoutModel",
          "model_module_version": "1.2.0",
          "state": {
            "_model_module": "@jupyter-widgets/base",
            "_model_module_version": "1.2.0",
            "_model_name": "LayoutModel",
            "_view_count": null,
            "_view_module": "@jupyter-widgets/base",
            "_view_module_version": "1.2.0",
            "_view_name": "LayoutView",
            "align_content": null,
            "align_items": null,
            "align_self": null,
            "border": null,
            "bottom": null,
            "display": null,
            "flex": null,
            "flex_flow": null,
            "grid_area": null,
            "grid_auto_columns": null,
            "grid_auto_flow": null,
            "grid_auto_rows": null,
            "grid_column": null,
            "grid_gap": null,
            "grid_row": null,
            "grid_template_areas": null,
            "grid_template_columns": null,
            "grid_template_rows": null,
            "height": null,
            "justify_content": null,
            "justify_items": null,
            "left": null,
            "margin": null,
            "max_height": null,
            "max_width": null,
            "min_height": null,
            "min_width": null,
            "object_fit": null,
            "object_position": null,
            "order": null,
            "overflow": null,
            "overflow_x": null,
            "overflow_y": null,
            "padding": null,
            "right": null,
            "top": null,
            "visibility": null,
            "width": null
          }
        },
        "f568b226a4fb4e7da0239be0ec7caeb6": {
          "model_module": "@jupyter-widgets/controls",
          "model_name": "ProgressStyleModel",
          "model_module_version": "1.5.0",
          "state": {
            "_model_module": "@jupyter-widgets/controls",
            "_model_module_version": "1.5.0",
            "_model_name": "ProgressStyleModel",
            "_view_count": null,
            "_view_module": "@jupyter-widgets/base",
            "_view_module_version": "1.2.0",
            "_view_name": "StyleView",
            "bar_color": null,
            "description_width": ""
          }
        },
        "f27767a61588430e9ff4f043aef10a03": {
          "model_module": "@jupyter-widgets/base",
          "model_name": "LayoutModel",
          "model_module_version": "1.2.0",
          "state": {
            "_model_module": "@jupyter-widgets/base",
            "_model_module_version": "1.2.0",
            "_model_name": "LayoutModel",
            "_view_count": null,
            "_view_module": "@jupyter-widgets/base",
            "_view_module_version": "1.2.0",
            "_view_name": "LayoutView",
            "align_content": null,
            "align_items": null,
            "align_self": null,
            "border": null,
            "bottom": null,
            "display": null,
            "flex": null,
            "flex_flow": null,
            "grid_area": null,
            "grid_auto_columns": null,
            "grid_auto_flow": null,
            "grid_auto_rows": null,
            "grid_column": null,
            "grid_gap": null,
            "grid_row": null,
            "grid_template_areas": null,
            "grid_template_columns": null,
            "grid_template_rows": null,
            "height": null,
            "justify_content": null,
            "justify_items": null,
            "left": null,
            "margin": null,
            "max_height": null,
            "max_width": null,
            "min_height": null,
            "min_width": null,
            "object_fit": null,
            "object_position": null,
            "order": null,
            "overflow": null,
            "overflow_x": null,
            "overflow_y": null,
            "padding": null,
            "right": null,
            "top": null,
            "visibility": null,
            "width": null
          }
        },
        "feaebc819b8a45b79b0c02e91027fab9": {
          "model_module": "@jupyter-widgets/controls",
          "model_name": "DescriptionStyleModel",
          "model_module_version": "1.5.0",
          "state": {
            "_model_module": "@jupyter-widgets/controls",
            "_model_module_version": "1.5.0",
            "_model_name": "DescriptionStyleModel",
            "_view_count": null,
            "_view_module": "@jupyter-widgets/base",
            "_view_module_version": "1.2.0",
            "_view_name": "StyleView",
            "description_width": ""
          }
        },
        "680fd82ce17e4facb041d948b766d651": {
          "model_module": "@jupyter-widgets/controls",
          "model_name": "HBoxModel",
          "model_module_version": "1.5.0",
          "state": {
            "_dom_classes": [],
            "_model_module": "@jupyter-widgets/controls",
            "_model_module_version": "1.5.0",
            "_model_name": "HBoxModel",
            "_view_count": null,
            "_view_module": "@jupyter-widgets/controls",
            "_view_module_version": "1.5.0",
            "_view_name": "HBoxView",
            "box_style": "",
            "children": [
              "IPY_MODEL_901b74b11f3445f8a33bdedede35602a",
              "IPY_MODEL_d966a6134ad94a5d9ed06e42bc34903c",
              "IPY_MODEL_0b2b222ffb6147c28a9c513ca3936e75"
            ],
            "layout": "IPY_MODEL_44e8ad90ca3f45a285ecfc3692bf1565"
          }
        },
        "901b74b11f3445f8a33bdedede35602a": {
          "model_module": "@jupyter-widgets/controls",
          "model_name": "HTMLModel",
          "model_module_version": "1.5.0",
          "state": {
            "_dom_classes": [],
            "_model_module": "@jupyter-widgets/controls",
            "_model_module_version": "1.5.0",
            "_model_name": "HTMLModel",
            "_view_count": null,
            "_view_module": "@jupyter-widgets/controls",
            "_view_module_version": "1.5.0",
            "_view_name": "HTMLView",
            "description": "",
            "description_tooltip": null,
            "layout": "IPY_MODEL_96a072d9c60f4dff910cdbd544c98dac",
            "placeholder": "​",
            "style": "IPY_MODEL_b422abb015d04088b7a9092feafb6857",
            "value": "Downloading: 100%"
          }
        },
        "d966a6134ad94a5d9ed06e42bc34903c": {
          "model_module": "@jupyter-widgets/controls",
          "model_name": "FloatProgressModel",
          "model_module_version": "1.5.0",
          "state": {
            "_dom_classes": [],
            "_model_module": "@jupyter-widgets/controls",
            "_model_module_version": "1.5.0",
            "_model_name": "FloatProgressModel",
            "_view_count": null,
            "_view_module": "@jupyter-widgets/controls",
            "_view_module_version": "1.5.0",
            "_view_name": "ProgressView",
            "bar_style": "success",
            "description": "",
            "description_tooltip": null,
            "layout": "IPY_MODEL_304e6d0fd32e4aed8aaa94de114f84cb",
            "max": 88,
            "min": 0,
            "orientation": "horizontal",
            "style": "IPY_MODEL_e905cb0a4cf04180b77cb6da520c70e1",
            "value": 88
          }
        },
        "0b2b222ffb6147c28a9c513ca3936e75": {
          "model_module": "@jupyter-widgets/controls",
          "model_name": "HTMLModel",
          "model_module_version": "1.5.0",
          "state": {
            "_dom_classes": [],
            "_model_module": "@jupyter-widgets/controls",
            "_model_module_version": "1.5.0",
            "_model_name": "HTMLModel",
            "_view_count": null,
            "_view_module": "@jupyter-widgets/controls",
            "_view_module_version": "1.5.0",
            "_view_name": "HTMLView",
            "description": "",
            "description_tooltip": null,
            "layout": "IPY_MODEL_81bc06e7e5ec48d980910a9fa70870b0",
            "placeholder": "​",
            "style": "IPY_MODEL_2fdffece9b1a4719b23a941d4c005308",
            "value": " 88.0/88.0 [00:00&lt;00:00, 2.45kB/s]"
          }
        },
        "44e8ad90ca3f45a285ecfc3692bf1565": {
          "model_module": "@jupyter-widgets/base",
          "model_name": "LayoutModel",
          "model_module_version": "1.2.0",
          "state": {
            "_model_module": "@jupyter-widgets/base",
            "_model_module_version": "1.2.0",
            "_model_name": "LayoutModel",
            "_view_count": null,
            "_view_module": "@jupyter-widgets/base",
            "_view_module_version": "1.2.0",
            "_view_name": "LayoutView",
            "align_content": null,
            "align_items": null,
            "align_self": null,
            "border": null,
            "bottom": null,
            "display": null,
            "flex": null,
            "flex_flow": null,
            "grid_area": null,
            "grid_auto_columns": null,
            "grid_auto_flow": null,
            "grid_auto_rows": null,
            "grid_column": null,
            "grid_gap": null,
            "grid_row": null,
            "grid_template_areas": null,
            "grid_template_columns": null,
            "grid_template_rows": null,
            "height": null,
            "justify_content": null,
            "justify_items": null,
            "left": null,
            "margin": null,
            "max_height": null,
            "max_width": null,
            "min_height": null,
            "min_width": null,
            "object_fit": null,
            "object_position": null,
            "order": null,
            "overflow": null,
            "overflow_x": null,
            "overflow_y": null,
            "padding": null,
            "right": null,
            "top": null,
            "visibility": null,
            "width": null
          }
        },
        "96a072d9c60f4dff910cdbd544c98dac": {
          "model_module": "@jupyter-widgets/base",
          "model_name": "LayoutModel",
          "model_module_version": "1.2.0",
          "state": {
            "_model_module": "@jupyter-widgets/base",
            "_model_module_version": "1.2.0",
            "_model_name": "LayoutModel",
            "_view_count": null,
            "_view_module": "@jupyter-widgets/base",
            "_view_module_version": "1.2.0",
            "_view_name": "LayoutView",
            "align_content": null,
            "align_items": null,
            "align_self": null,
            "border": null,
            "bottom": null,
            "display": null,
            "flex": null,
            "flex_flow": null,
            "grid_area": null,
            "grid_auto_columns": null,
            "grid_auto_flow": null,
            "grid_auto_rows": null,
            "grid_column": null,
            "grid_gap": null,
            "grid_row": null,
            "grid_template_areas": null,
            "grid_template_columns": null,
            "grid_template_rows": null,
            "height": null,
            "justify_content": null,
            "justify_items": null,
            "left": null,
            "margin": null,
            "max_height": null,
            "max_width": null,
            "min_height": null,
            "min_width": null,
            "object_fit": null,
            "object_position": null,
            "order": null,
            "overflow": null,
            "overflow_x": null,
            "overflow_y": null,
            "padding": null,
            "right": null,
            "top": null,
            "visibility": null,
            "width": null
          }
        },
        "b422abb015d04088b7a9092feafb6857": {
          "model_module": "@jupyter-widgets/controls",
          "model_name": "DescriptionStyleModel",
          "model_module_version": "1.5.0",
          "state": {
            "_model_module": "@jupyter-widgets/controls",
            "_model_module_version": "1.5.0",
            "_model_name": "DescriptionStyleModel",
            "_view_count": null,
            "_view_module": "@jupyter-widgets/base",
            "_view_module_version": "1.2.0",
            "_view_name": "StyleView",
            "description_width": ""
          }
        },
        "304e6d0fd32e4aed8aaa94de114f84cb": {
          "model_module": "@jupyter-widgets/base",
          "model_name": "LayoutModel",
          "model_module_version": "1.2.0",
          "state": {
            "_model_module": "@jupyter-widgets/base",
            "_model_module_version": "1.2.0",
            "_model_name": "LayoutModel",
            "_view_count": null,
            "_view_module": "@jupyter-widgets/base",
            "_view_module_version": "1.2.0",
            "_view_name": "LayoutView",
            "align_content": null,
            "align_items": null,
            "align_self": null,
            "border": null,
            "bottom": null,
            "display": null,
            "flex": null,
            "flex_flow": null,
            "grid_area": null,
            "grid_auto_columns": null,
            "grid_auto_flow": null,
            "grid_auto_rows": null,
            "grid_column": null,
            "grid_gap": null,
            "grid_row": null,
            "grid_template_areas": null,
            "grid_template_columns": null,
            "grid_template_rows": null,
            "height": null,
            "justify_content": null,
            "justify_items": null,
            "left": null,
            "margin": null,
            "max_height": null,
            "max_width": null,
            "min_height": null,
            "min_width": null,
            "object_fit": null,
            "object_position": null,
            "order": null,
            "overflow": null,
            "overflow_x": null,
            "overflow_y": null,
            "padding": null,
            "right": null,
            "top": null,
            "visibility": null,
            "width": null
          }
        },
        "e905cb0a4cf04180b77cb6da520c70e1": {
          "model_module": "@jupyter-widgets/controls",
          "model_name": "ProgressStyleModel",
          "model_module_version": "1.5.0",
          "state": {
            "_model_module": "@jupyter-widgets/controls",
            "_model_module_version": "1.5.0",
            "_model_name": "ProgressStyleModel",
            "_view_count": null,
            "_view_module": "@jupyter-widgets/base",
            "_view_module_version": "1.2.0",
            "_view_name": "StyleView",
            "bar_color": null,
            "description_width": ""
          }
        },
        "81bc06e7e5ec48d980910a9fa70870b0": {
          "model_module": "@jupyter-widgets/base",
          "model_name": "LayoutModel",
          "model_module_version": "1.2.0",
          "state": {
            "_model_module": "@jupyter-widgets/base",
            "_model_module_version": "1.2.0",
            "_model_name": "LayoutModel",
            "_view_count": null,
            "_view_module": "@jupyter-widgets/base",
            "_view_module_version": "1.2.0",
            "_view_name": "LayoutView",
            "align_content": null,
            "align_items": null,
            "align_self": null,
            "border": null,
            "bottom": null,
            "display": null,
            "flex": null,
            "flex_flow": null,
            "grid_area": null,
            "grid_auto_columns": null,
            "grid_auto_flow": null,
            "grid_auto_rows": null,
            "grid_column": null,
            "grid_gap": null,
            "grid_row": null,
            "grid_template_areas": null,
            "grid_template_columns": null,
            "grid_template_rows": null,
            "height": null,
            "justify_content": null,
            "justify_items": null,
            "left": null,
            "margin": null,
            "max_height": null,
            "max_width": null,
            "min_height": null,
            "min_width": null,
            "object_fit": null,
            "object_position": null,
            "order": null,
            "overflow": null,
            "overflow_x": null,
            "overflow_y": null,
            "padding": null,
            "right": null,
            "top": null,
            "visibility": null,
            "width": null
          }
        },
        "2fdffece9b1a4719b23a941d4c005308": {
          "model_module": "@jupyter-widgets/controls",
          "model_name": "DescriptionStyleModel",
          "model_module_version": "1.5.0",
          "state": {
            "_model_module": "@jupyter-widgets/controls",
            "_model_module_version": "1.5.0",
            "_model_name": "DescriptionStyleModel",
            "_view_count": null,
            "_view_module": "@jupyter-widgets/base",
            "_view_module_version": "1.2.0",
            "_view_name": "StyleView",
            "description_width": ""
          }
        }
      }
    }
  },
  "cells": [
    {
      "cell_type": "markdown",
      "metadata": {
        "id": "view-in-github",
        "colab_type": "text"
      },
      "source": [
        "<a href=\"https://colab.research.google.com/github/ekandemir/FoodRecipeGenerator/blob/main/CreativityProject.ipynb\" target=\"_parent\"><img src=\"https://colab.research.google.com/assets/colab-badge.svg\" alt=\"Open In Colab\"/></a>"
      ]
    },
    {
      "cell_type": "markdown",
      "source": [
        "# Creativity Project"
      ],
      "metadata": {
        "id": "dLDh6hDEiFdk"
      }
    },
    {
      "cell_type": "markdown",
      "source": [
        "# IMPORTANT INFORMATION FOR THIS NOTEBOOK\n",
        "\n",
        "!!! **THE SYSTEM GIVES BEST GENERATION RESULTS WITH PEGASUS** !!!\n",
        "\n",
        "- Necessary Installations and Assignments section's cells should run for every attempt in the notebook. The working directory can be changed under this section.\n",
        "\n",
        "- Data Processing creates datasets for training. archive.zip (provided in the Google Drive link) file should be in the current path.\n",
        "\n",
        "- **For training, provided dataset_1.csv, dataset_2.txt, dataset_3.txt files should be in Data/ directory.**\n",
        "\n",
        "- RNN Model Train section is to train RNN Models, the dataset should be chosen in \"Choose dataset\" cell. Then Letter or Word approach can be trained.\n",
        "\n",
        "- PEGASUS Model Train section is to fine-tune the PEGASUS model.\n",
        "-- The output of the train cell of PEGASUS model is to show training is possible only. Since the model takes long to train, it has been reloaded and trained multiple times. The final trained model can be tried in TEST section.\n",
        "\n",
        "TO TEST THE MODELS AFTER INSTALLATIONS AND ASSIGNMENTS RAN, YOU CAN JUMP TO TEST SECTIONS.\n",
        "\n",
        "You can enter the ingredients by comma seperated and post-processed generated text should be printed in Generate Recipe sections.\n",
        "\n"
      ],
      "metadata": {
        "id": "johYxHAo7ic7"
      }
    },
    {
      "cell_type": "markdown",
      "source": [
        "## Necessary Installations and Assignments"
      ],
      "metadata": {
        "id": "7den0_z9iaR0"
      }
    },
    {
      "cell_type": "markdown",
      "source": [
        "### Installations"
      ],
      "metadata": {
        "id": "m2m1dw3ClDyU"
      }
    },
    {
      "cell_type": "code",
      "source": [
        "!pip install sentencepiece\n",
        "!pip install datasets\n",
        "!pip install transformers"
      ],
      "metadata": {
        "colab": {
          "base_uri": "https://localhost:8080/"
        },
        "id": "qhXzW_njjRd3",
        "outputId": "90d25abf-86db-4f42-ba5d-1bc6a4efcffc"
      },
      "execution_count": null,
      "outputs": [
        {
          "output_type": "stream",
          "name": "stdout",
          "text": [
            "Requirement already satisfied: sentencepiece in /usr/local/lib/python3.7/dist-packages (0.1.96)\n",
            "Requirement already satisfied: datasets in /usr/local/lib/python3.7/dist-packages (2.1.0)\n",
            "Requirement already satisfied: requests>=2.19.0 in /usr/local/lib/python3.7/dist-packages (from datasets) (2.23.0)\n",
            "Requirement already satisfied: importlib-metadata in /usr/local/lib/python3.7/dist-packages (from datasets) (4.11.3)\n",
            "Requirement already satisfied: fsspec[http]>=2021.05.0 in /usr/local/lib/python3.7/dist-packages (from datasets) (2022.3.0)\n",
            "Requirement already satisfied: packaging in /usr/local/lib/python3.7/dist-packages (from datasets) (21.3)\n",
            "Requirement already satisfied: tqdm>=4.62.1 in /usr/local/lib/python3.7/dist-packages (from datasets) (4.64.0)\n",
            "Requirement already satisfied: pyarrow>=5.0.0 in /usr/local/lib/python3.7/dist-packages (from datasets) (6.0.1)\n",
            "Requirement already satisfied: aiohttp in /usr/local/lib/python3.7/dist-packages (from datasets) (3.8.1)\n",
            "Requirement already satisfied: numpy>=1.17 in /usr/local/lib/python3.7/dist-packages (from datasets) (1.21.6)\n",
            "Requirement already satisfied: huggingface-hub<1.0.0,>=0.1.0 in /usr/local/lib/python3.7/dist-packages (from datasets) (0.5.1)\n",
            "Requirement already satisfied: dill in /usr/local/lib/python3.7/dist-packages (from datasets) (0.3.4)\n",
            "Requirement already satisfied: xxhash in /usr/local/lib/python3.7/dist-packages (from datasets) (3.0.0)\n",
            "Requirement already satisfied: pandas in /usr/local/lib/python3.7/dist-packages (from datasets) (1.3.5)\n",
            "Requirement already satisfied: responses<0.19 in /usr/local/lib/python3.7/dist-packages (from datasets) (0.18.0)\n",
            "Requirement already satisfied: multiprocess in /usr/local/lib/python3.7/dist-packages (from datasets) (0.70.12.2)\n",
            "Requirement already satisfied: pyyaml in /usr/local/lib/python3.7/dist-packages (from huggingface-hub<1.0.0,>=0.1.0->datasets) (6.0)\n",
            "Requirement already satisfied: filelock in /usr/local/lib/python3.7/dist-packages (from huggingface-hub<1.0.0,>=0.1.0->datasets) (3.6.0)\n",
            "Requirement already satisfied: typing-extensions>=3.7.4.3 in /usr/local/lib/python3.7/dist-packages (from huggingface-hub<1.0.0,>=0.1.0->datasets) (4.1.1)\n",
            "Requirement already satisfied: pyparsing!=3.0.5,>=2.0.2 in /usr/local/lib/python3.7/dist-packages (from packaging->datasets) (3.0.8)\n",
            "Requirement already satisfied: chardet<4,>=3.0.2 in /usr/local/lib/python3.7/dist-packages (from requests>=2.19.0->datasets) (3.0.4)\n",
            "Requirement already satisfied: certifi>=2017.4.17 in /usr/local/lib/python3.7/dist-packages (from requests>=2.19.0->datasets) (2021.10.8)\n",
            "Requirement already satisfied: urllib3!=1.25.0,!=1.25.1,<1.26,>=1.21.1 in /usr/local/lib/python3.7/dist-packages (from requests>=2.19.0->datasets) (1.25.11)\n",
            "Requirement already satisfied: idna<3,>=2.5 in /usr/local/lib/python3.7/dist-packages (from requests>=2.19.0->datasets) (2.10)\n",
            "Requirement already satisfied: attrs>=17.3.0 in /usr/local/lib/python3.7/dist-packages (from aiohttp->datasets) (21.4.0)\n",
            "Requirement already satisfied: frozenlist>=1.1.1 in /usr/local/lib/python3.7/dist-packages (from aiohttp->datasets) (1.3.0)\n",
            "Requirement already satisfied: charset-normalizer<3.0,>=2.0 in /usr/local/lib/python3.7/dist-packages (from aiohttp->datasets) (2.0.12)\n",
            "Requirement already satisfied: multidict<7.0,>=4.5 in /usr/local/lib/python3.7/dist-packages (from aiohttp->datasets) (6.0.2)\n",
            "Requirement already satisfied: aiosignal>=1.1.2 in /usr/local/lib/python3.7/dist-packages (from aiohttp->datasets) (1.2.0)\n",
            "Requirement already satisfied: asynctest==0.13.0 in /usr/local/lib/python3.7/dist-packages (from aiohttp->datasets) (0.13.0)\n",
            "Requirement already satisfied: yarl<2.0,>=1.0 in /usr/local/lib/python3.7/dist-packages (from aiohttp->datasets) (1.7.2)\n",
            "Requirement already satisfied: async-timeout<5.0,>=4.0.0a3 in /usr/local/lib/python3.7/dist-packages (from aiohttp->datasets) (4.0.2)\n",
            "Requirement already satisfied: zipp>=0.5 in /usr/local/lib/python3.7/dist-packages (from importlib-metadata->datasets) (3.8.0)\n",
            "Requirement already satisfied: pytz>=2017.3 in /usr/local/lib/python3.7/dist-packages (from pandas->datasets) (2022.1)\n",
            "Requirement already satisfied: python-dateutil>=2.7.3 in /usr/local/lib/python3.7/dist-packages (from pandas->datasets) (2.8.2)\n",
            "Requirement already satisfied: six>=1.5 in /usr/local/lib/python3.7/dist-packages (from python-dateutil>=2.7.3->pandas->datasets) (1.15.0)\n",
            "Requirement already satisfied: transformers in /usr/local/lib/python3.7/dist-packages (4.18.0)\n",
            "Requirement already satisfied: pyyaml>=5.1 in /usr/local/lib/python3.7/dist-packages (from transformers) (6.0)\n",
            "Requirement already satisfied: tqdm>=4.27 in /usr/local/lib/python3.7/dist-packages (from transformers) (4.64.0)\n",
            "Requirement already satisfied: sacremoses in /usr/local/lib/python3.7/dist-packages (from transformers) (0.0.49)\n",
            "Requirement already satisfied: importlib-metadata in /usr/local/lib/python3.7/dist-packages (from transformers) (4.11.3)\n",
            "Requirement already satisfied: requests in /usr/local/lib/python3.7/dist-packages (from transformers) (2.23.0)\n",
            "Requirement already satisfied: tokenizers!=0.11.3,<0.13,>=0.11.1 in /usr/local/lib/python3.7/dist-packages (from transformers) (0.12.1)\n",
            "Requirement already satisfied: huggingface-hub<1.0,>=0.1.0 in /usr/local/lib/python3.7/dist-packages (from transformers) (0.5.1)\n",
            "Requirement already satisfied: regex!=2019.12.17 in /usr/local/lib/python3.7/dist-packages (from transformers) (2019.12.20)\n",
            "Requirement already satisfied: filelock in /usr/local/lib/python3.7/dist-packages (from transformers) (3.6.0)\n",
            "Requirement already satisfied: packaging>=20.0 in /usr/local/lib/python3.7/dist-packages (from transformers) (21.3)\n",
            "Requirement already satisfied: numpy>=1.17 in /usr/local/lib/python3.7/dist-packages (from transformers) (1.21.6)\n",
            "Requirement already satisfied: typing-extensions>=3.7.4.3 in /usr/local/lib/python3.7/dist-packages (from huggingface-hub<1.0,>=0.1.0->transformers) (4.1.1)\n",
            "Requirement already satisfied: pyparsing!=3.0.5,>=2.0.2 in /usr/local/lib/python3.7/dist-packages (from packaging>=20.0->transformers) (3.0.8)\n",
            "Requirement already satisfied: zipp>=0.5 in /usr/local/lib/python3.7/dist-packages (from importlib-metadata->transformers) (3.8.0)\n",
            "Requirement already satisfied: idna<3,>=2.5 in /usr/local/lib/python3.7/dist-packages (from requests->transformers) (2.10)\n",
            "Requirement already satisfied: urllib3!=1.25.0,!=1.25.1,<1.26,>=1.21.1 in /usr/local/lib/python3.7/dist-packages (from requests->transformers) (1.25.11)\n",
            "Requirement already satisfied: certifi>=2017.4.17 in /usr/local/lib/python3.7/dist-packages (from requests->transformers) (2021.10.8)\n",
            "Requirement already satisfied: chardet<4,>=3.0.2 in /usr/local/lib/python3.7/dist-packages (from requests->transformers) (3.0.4)\n",
            "Requirement already satisfied: click in /usr/local/lib/python3.7/dist-packages (from sacremoses->transformers) (7.1.2)\n",
            "Requirement already satisfied: six in /usr/local/lib/python3.7/dist-packages (from sacremoses->transformers) (1.15.0)\n",
            "Requirement already satisfied: joblib in /usr/local/lib/python3.7/dist-packages (from sacremoses->transformers) (1.1.0)\n"
          ]
        }
      ]
    },
    {
      "cell_type": "markdown",
      "source": [
        "### Library Imports"
      ],
      "metadata": {
        "id": "D-zlqUO1lF8A"
      }
    },
    {
      "cell_type": "code",
      "source": [
        "import os\n",
        "import pandas as pd\n",
        "import csv\n",
        "from transformers import PegasusForConditionalGeneration, PegasusTokenizer, Trainer, TrainingArguments\n",
        "import torch\n",
        "from datasets import load_dataset\n",
        "import numpy as np\n",
        "import tensorflow as tf\n",
        "import numpy as np\n",
        "import random\n",
        "from ast import literal_eval\n",
        "import time"
      ],
      "metadata": {
        "id": "8rKVFS-4i9ac"
      },
      "execution_count": null,
      "outputs": []
    },
    {
      "cell_type": "markdown",
      "source": [
        "### Drive Mount and Dataset Unzip Operations"
      ],
      "metadata": {
        "id": "-FwCpSh8lI8y"
      }
    },
    {
      "cell_type": "code",
      "source": [
        "# Mount the drive\n",
        "from google.colab import drive\n",
        "drive.mount('/content/drive')"
      ],
      "metadata": {
        "colab": {
          "base_uri": "https://localhost:8080/"
        },
        "id": "aJx79anjigEP",
        "outputId": "8ed7c9cc-ff23-40f1-ecf2-9115855df039"
      },
      "execution_count": null,
      "outputs": [
        {
          "output_type": "stream",
          "name": "stdout",
          "text": [
            "Drive already mounted at /content/drive; to attempt to forcibly remount, call drive.mount(\"/content/drive\", force_remount=True).\n"
          ]
        }
      ]
    },
    {
      "cell_type": "code",
      "source": [
        "#@title Create or Change to Drive Directory\n",
        "path = \"/content/drive/MyDrive/Computer_Creativity_Project\" # @param {type:\"string\"}\n",
        "if not os.path.exists(path):\n",
        "  # Create a new directory because it does not exist \n",
        "  os.makedirs(path)\n",
        "  print(path, \" directory created.\")\n",
        "\n",
        "os.chdir(path)"
      ],
      "metadata": {
        "id": "qJnh3ShnisqQ"
      },
      "execution_count": null,
      "outputs": []
    },
    {
      "cell_type": "code",
      "source": [
        "\"\"\"\n",
        "  archive.zip file added to shared Google Drive link.\n",
        "  PUT archive.zip file obtained from https://www.kaggle.com/datasets/shuyangli94/food-com-recipes-and-user-interactions\n",
        "  in path. Since during the download authentication is needed, download command has not been added here. \n",
        "\"\"\""
      ],
      "metadata": {
        "colab": {
          "base_uri": "https://localhost:8080/"
        },
        "id": "7zD75imDkLno",
        "outputId": "fd5311b5-2c0f-42c2-8fa8-ff5bd04192f5"
      },
      "execution_count": null,
      "outputs": [
        {
          "output_type": "execute_result",
          "data": {
            "text/plain": [
              "'\\n  archive.zip file added to shared Google Drive link.\\n  PUT archive.zip file obtained from https://www.kaggle.com/datasets/shuyangli94/food-com-recipes-and-user-interactions\\n  in path. Since during the download authentication is needed, download command has not been added here. \\n'"
            ],
            "application/vnd.google.colaboratory.intrinsic+json": {
              "type": "string"
            }
          },
          "metadata": {},
          "execution_count": 7
        }
      ]
    },
    {
      "cell_type": "code",
      "source": [
        "DATASET_PATH = \"./food_dataset\"\n",
        "if not os.path.exists(DATASET_PATH):\n",
        "  os.system(\"unzip archive.zip -d food_dataset/\")"
      ],
      "metadata": {
        "id": "bBKNpANvjbe9"
      },
      "execution_count": null,
      "outputs": []
    },
    {
      "cell_type": "markdown",
      "source": [
        "# Data Processing"
      ],
      "metadata": {
        "id": "SPX0RRBXdm2J"
      }
    },
    {
      "cell_type": "code",
      "source": [
        "# LOAD RAW DATA\n",
        "data = pd.read_csv(\"food_dataset/RAW_recipes.csv\", nrows=10000)\n",
        "data.head()"
      ],
      "metadata": {
        "colab": {
          "base_uri": "https://localhost:8080/",
          "height": 634
        },
        "id": "O_ersuzZkrsF",
        "outputId": "a0e524af-7cbe-42ca-f3bf-28be38456085"
      },
      "execution_count": null,
      "outputs": [
        {
          "output_type": "execute_result",
          "data": {
            "text/plain": [
              "                                         name      id  minutes  \\\n",
              "0  arriba   baked winter squash mexican style  137739       55   \n",
              "1            a bit different  breakfast pizza   31490       30   \n",
              "2                   all in the kitchen  chili  112140      130   \n",
              "3                          alouette  potatoes   59389       45   \n",
              "4          amish  tomato ketchup  for canning   44061      190   \n",
              "\n",
              "   contributor_id   submitted  \\\n",
              "0           47892  2005-09-16   \n",
              "1           26278  2002-06-17   \n",
              "2          196586  2005-02-25   \n",
              "3           68585  2003-04-14   \n",
              "4           41706  2002-10-25   \n",
              "\n",
              "                                                tags  \\\n",
              "0  ['60-minutes-or-less', 'time-to-make', 'course...   \n",
              "1  ['30-minutes-or-less', 'time-to-make', 'course...   \n",
              "2  ['time-to-make', 'course', 'preparation', 'mai...   \n",
              "3  ['60-minutes-or-less', 'time-to-make', 'course...   \n",
              "4  ['weeknight', 'time-to-make', 'course', 'main-...   \n",
              "\n",
              "                                    nutrition  n_steps  \\\n",
              "0       [51.5, 0.0, 13.0, 0.0, 2.0, 0.0, 4.0]       11   \n",
              "1   [173.4, 18.0, 0.0, 17.0, 22.0, 35.0, 1.0]        9   \n",
              "2  [269.8, 22.0, 32.0, 48.0, 39.0, 27.0, 5.0]        6   \n",
              "3   [368.1, 17.0, 10.0, 2.0, 14.0, 8.0, 20.0]       11   \n",
              "4   [352.9, 1.0, 337.0, 23.0, 3.0, 0.0, 28.0]        5   \n",
              "\n",
              "                                               steps  \\\n",
              "0  ['make a choice and proceed with recipe', 'dep...   \n",
              "1  ['preheat oven to 425 degrees f', 'press dough...   \n",
              "2  ['brown ground beef in large pot', 'add choppe...   \n",
              "3  ['place potatoes in a large pot of lightly sal...   \n",
              "4  ['mix all ingredients& boil for 2 1 / 2 hours ...   \n",
              "\n",
              "                                         description  \\\n",
              "0  autumn is my favorite time of year to cook! th...   \n",
              "1  this recipe calls for the crust to be prebaked...   \n",
              "2  this modified version of 'mom's' chili was a h...   \n",
              "3  this is a super easy, great tasting, make ahea...   \n",
              "4  my dh's amish mother raised him on this recipe...   \n",
              "\n",
              "                                         ingredients  n_ingredients  \n",
              "0  ['winter squash', 'mexican seasoning', 'mixed ...              7  \n",
              "1  ['prepared pizza crust', 'sausage patty', 'egg...              6  \n",
              "2  ['ground beef', 'yellow onions', 'diced tomato...             13  \n",
              "3  ['spreadable cheese with garlic and herbs', 'n...             11  \n",
              "4  ['tomato juice', 'apple cider vinegar', 'sugar...              8  "
            ],
            "text/html": [
              "\n",
              "  <div id=\"df-d820b091-f2d6-48b7-b527-3e42457d05d4\">\n",
              "    <div class=\"colab-df-container\">\n",
              "      <div>\n",
              "<style scoped>\n",
              "    .dataframe tbody tr th:only-of-type {\n",
              "        vertical-align: middle;\n",
              "    }\n",
              "\n",
              "    .dataframe tbody tr th {\n",
              "        vertical-align: top;\n",
              "    }\n",
              "\n",
              "    .dataframe thead th {\n",
              "        text-align: right;\n",
              "    }\n",
              "</style>\n",
              "<table border=\"1\" class=\"dataframe\">\n",
              "  <thead>\n",
              "    <tr style=\"text-align: right;\">\n",
              "      <th></th>\n",
              "      <th>name</th>\n",
              "      <th>id</th>\n",
              "      <th>minutes</th>\n",
              "      <th>contributor_id</th>\n",
              "      <th>submitted</th>\n",
              "      <th>tags</th>\n",
              "      <th>nutrition</th>\n",
              "      <th>n_steps</th>\n",
              "      <th>steps</th>\n",
              "      <th>description</th>\n",
              "      <th>ingredients</th>\n",
              "      <th>n_ingredients</th>\n",
              "    </tr>\n",
              "  </thead>\n",
              "  <tbody>\n",
              "    <tr>\n",
              "      <th>0</th>\n",
              "      <td>arriba   baked winter squash mexican style</td>\n",
              "      <td>137739</td>\n",
              "      <td>55</td>\n",
              "      <td>47892</td>\n",
              "      <td>2005-09-16</td>\n",
              "      <td>['60-minutes-or-less', 'time-to-make', 'course...</td>\n",
              "      <td>[51.5, 0.0, 13.0, 0.0, 2.0, 0.0, 4.0]</td>\n",
              "      <td>11</td>\n",
              "      <td>['make a choice and proceed with recipe', 'dep...</td>\n",
              "      <td>autumn is my favorite time of year to cook! th...</td>\n",
              "      <td>['winter squash', 'mexican seasoning', 'mixed ...</td>\n",
              "      <td>7</td>\n",
              "    </tr>\n",
              "    <tr>\n",
              "      <th>1</th>\n",
              "      <td>a bit different  breakfast pizza</td>\n",
              "      <td>31490</td>\n",
              "      <td>30</td>\n",
              "      <td>26278</td>\n",
              "      <td>2002-06-17</td>\n",
              "      <td>['30-minutes-or-less', 'time-to-make', 'course...</td>\n",
              "      <td>[173.4, 18.0, 0.0, 17.0, 22.0, 35.0, 1.0]</td>\n",
              "      <td>9</td>\n",
              "      <td>['preheat oven to 425 degrees f', 'press dough...</td>\n",
              "      <td>this recipe calls for the crust to be prebaked...</td>\n",
              "      <td>['prepared pizza crust', 'sausage patty', 'egg...</td>\n",
              "      <td>6</td>\n",
              "    </tr>\n",
              "    <tr>\n",
              "      <th>2</th>\n",
              "      <td>all in the kitchen  chili</td>\n",
              "      <td>112140</td>\n",
              "      <td>130</td>\n",
              "      <td>196586</td>\n",
              "      <td>2005-02-25</td>\n",
              "      <td>['time-to-make', 'course', 'preparation', 'mai...</td>\n",
              "      <td>[269.8, 22.0, 32.0, 48.0, 39.0, 27.0, 5.0]</td>\n",
              "      <td>6</td>\n",
              "      <td>['brown ground beef in large pot', 'add choppe...</td>\n",
              "      <td>this modified version of 'mom's' chili was a h...</td>\n",
              "      <td>['ground beef', 'yellow onions', 'diced tomato...</td>\n",
              "      <td>13</td>\n",
              "    </tr>\n",
              "    <tr>\n",
              "      <th>3</th>\n",
              "      <td>alouette  potatoes</td>\n",
              "      <td>59389</td>\n",
              "      <td>45</td>\n",
              "      <td>68585</td>\n",
              "      <td>2003-04-14</td>\n",
              "      <td>['60-minutes-or-less', 'time-to-make', 'course...</td>\n",
              "      <td>[368.1, 17.0, 10.0, 2.0, 14.0, 8.0, 20.0]</td>\n",
              "      <td>11</td>\n",
              "      <td>['place potatoes in a large pot of lightly sal...</td>\n",
              "      <td>this is a super easy, great tasting, make ahea...</td>\n",
              "      <td>['spreadable cheese with garlic and herbs', 'n...</td>\n",
              "      <td>11</td>\n",
              "    </tr>\n",
              "    <tr>\n",
              "      <th>4</th>\n",
              "      <td>amish  tomato ketchup  for canning</td>\n",
              "      <td>44061</td>\n",
              "      <td>190</td>\n",
              "      <td>41706</td>\n",
              "      <td>2002-10-25</td>\n",
              "      <td>['weeknight', 'time-to-make', 'course', 'main-...</td>\n",
              "      <td>[352.9, 1.0, 337.0, 23.0, 3.0, 0.0, 28.0]</td>\n",
              "      <td>5</td>\n",
              "      <td>['mix all ingredients&amp; boil for 2 1 / 2 hours ...</td>\n",
              "      <td>my dh's amish mother raised him on this recipe...</td>\n",
              "      <td>['tomato juice', 'apple cider vinegar', 'sugar...</td>\n",
              "      <td>8</td>\n",
              "    </tr>\n",
              "  </tbody>\n",
              "</table>\n",
              "</div>\n",
              "      <button class=\"colab-df-convert\" onclick=\"convertToInteractive('df-d820b091-f2d6-48b7-b527-3e42457d05d4')\"\n",
              "              title=\"Convert this dataframe to an interactive table.\"\n",
              "              style=\"display:none;\">\n",
              "        \n",
              "  <svg xmlns=\"http://www.w3.org/2000/svg\" height=\"24px\"viewBox=\"0 0 24 24\"\n",
              "       width=\"24px\">\n",
              "    <path d=\"M0 0h24v24H0V0z\" fill=\"none\"/>\n",
              "    <path d=\"M18.56 5.44l.94 2.06.94-2.06 2.06-.94-2.06-.94-.94-2.06-.94 2.06-2.06.94zm-11 1L8.5 8.5l.94-2.06 2.06-.94-2.06-.94L8.5 2.5l-.94 2.06-2.06.94zm10 10l.94 2.06.94-2.06 2.06-.94-2.06-.94-.94-2.06-.94 2.06-2.06.94z\"/><path d=\"M17.41 7.96l-1.37-1.37c-.4-.4-.92-.59-1.43-.59-.52 0-1.04.2-1.43.59L10.3 9.45l-7.72 7.72c-.78.78-.78 2.05 0 2.83L4 21.41c.39.39.9.59 1.41.59.51 0 1.02-.2 1.41-.59l7.78-7.78 2.81-2.81c.8-.78.8-2.07 0-2.86zM5.41 20L4 18.59l7.72-7.72 1.47 1.35L5.41 20z\"/>\n",
              "  </svg>\n",
              "      </button>\n",
              "      \n",
              "  <style>\n",
              "    .colab-df-container {\n",
              "      display:flex;\n",
              "      flex-wrap:wrap;\n",
              "      gap: 12px;\n",
              "    }\n",
              "\n",
              "    .colab-df-convert {\n",
              "      background-color: #E8F0FE;\n",
              "      border: none;\n",
              "      border-radius: 50%;\n",
              "      cursor: pointer;\n",
              "      display: none;\n",
              "      fill: #1967D2;\n",
              "      height: 32px;\n",
              "      padding: 0 0 0 0;\n",
              "      width: 32px;\n",
              "    }\n",
              "\n",
              "    .colab-df-convert:hover {\n",
              "      background-color: #E2EBFA;\n",
              "      box-shadow: 0px 1px 2px rgba(60, 64, 67, 0.3), 0px 1px 3px 1px rgba(60, 64, 67, 0.15);\n",
              "      fill: #174EA6;\n",
              "    }\n",
              "\n",
              "    [theme=dark] .colab-df-convert {\n",
              "      background-color: #3B4455;\n",
              "      fill: #D2E3FC;\n",
              "    }\n",
              "\n",
              "    [theme=dark] .colab-df-convert:hover {\n",
              "      background-color: #434B5C;\n",
              "      box-shadow: 0px 1px 3px 1px rgba(0, 0, 0, 0.15);\n",
              "      filter: drop-shadow(0px 1px 2px rgba(0, 0, 0, 0.3));\n",
              "      fill: #FFFFFF;\n",
              "    }\n",
              "  </style>\n",
              "\n",
              "      <script>\n",
              "        const buttonEl =\n",
              "          document.querySelector('#df-d820b091-f2d6-48b7-b527-3e42457d05d4 button.colab-df-convert');\n",
              "        buttonEl.style.display =\n",
              "          google.colab.kernel.accessAllowed ? 'block' : 'none';\n",
              "\n",
              "        async function convertToInteractive(key) {\n",
              "          const element = document.querySelector('#df-d820b091-f2d6-48b7-b527-3e42457d05d4');\n",
              "          const dataTable =\n",
              "            await google.colab.kernel.invokeFunction('convertToInteractive',\n",
              "                                                     [key], {});\n",
              "          if (!dataTable) return;\n",
              "\n",
              "          const docLinkHtml = 'Like what you see? Visit the ' +\n",
              "            '<a target=\"_blank\" href=https://colab.research.google.com/notebooks/data_table.ipynb>data table notebook</a>'\n",
              "            + ' to learn more about interactive tables.';\n",
              "          element.innerHTML = '';\n",
              "          dataTable['output_type'] = 'display_data';\n",
              "          await google.colab.output.renderOutput(dataTable, element);\n",
              "          const docLink = document.createElement('div');\n",
              "          docLink.innerHTML = docLinkHtml;\n",
              "          element.appendChild(docLink);\n",
              "        }\n",
              "      </script>\n",
              "    </div>\n",
              "  </div>\n",
              "  "
            ]
          },
          "metadata": {},
          "execution_count": 10
        }
      ]
    },
    {
      "cell_type": "markdown",
      "source": [
        "Further operations are to create the \"*dataset_1.csv*\" file. The data already provided in the Google Drive link has been shared. You can create or copy-paste that file."
      ],
      "metadata": {
        "id": "zuDx4FsLmtgL"
      }
    },
    {
      "cell_type": "code",
      "source": [
        "def tokenize_list(df_column, max_length=128, pad_to_max_length=True):\n",
        "  \"\"\"\n",
        "    Tokenize the ingredients and return token and token_id list\n",
        "\n",
        "  :param df_column: pd.data_frame column, should contain list of strings \n",
        "  :param max_length: int, maximum length\n",
        "  :param pad_to_max_length: bool, should to the padding\n",
        "  :return: tokenized_str_list, tokenized_id_list : tokenized ingredient list string and token_ids; [ing_1, <sep>, ing_2, <sep>, ing_3... ]\n",
        "  \"\"\"\n",
        "  def join_strings(str_list):\n",
        "    try:\n",
        "      sep_token = \" \"+\"<sep>\"+\" \"\n",
        "      joined_ingredients = sep_token.join(literal_eval(str_list))\n",
        "\n",
        "    except:\n",
        "      print(\"Error Occured on: \", str_list)\n",
        "      return None\n",
        "    return joined_ingredients\n",
        "  \n",
        "  str_list = map(join_strings, df_column)\n",
        "  str_list = list(str_list)\n",
        "  return str_list\n"
      ],
      "metadata": {
        "id": "jfMmeXARiI9j"
      },
      "execution_count": null,
      "outputs": []
    },
    {
      "cell_type": "code",
      "execution_count": null,
      "metadata": {
        "id": "-WwJNKBWh-cv"
      },
      "outputs": [],
      "source": [
        "# Tokenize ingredients and steps columns as two different lists\n",
        "ingredients_joined = tokenize_list(data.ingredients)\n",
        "steps_joined = tokenize_list(data.steps)"
      ]
    },
    {
      "cell_type": "code",
      "source": [
        "#@title Creating dataset_1\n",
        "data_dict = {\"ingredients\": ingredients_joined, \"steps\": steps_joined}\n",
        "with open(\"dataset_1.csv\", \"w\") as outfile:\n",
        "   writer = csv.writer(outfile)\n",
        "   writer.writerow(data_dict.keys())\n",
        "   writer.writerows(zip(*data_dict.values()))\n"
      ],
      "metadata": {
        "id": "THAKfzMZmNjT"
      },
      "execution_count": null,
      "outputs": []
    },
    {
      "cell_type": "markdown",
      "source": [
        "A csv file with columns \"**ingredients, steps**\" is created and saved as \"*dataset_1.csv*\" file."
      ],
      "metadata": {
        "id": "3z4HVQ3FmYUa"
      }
    },
    {
      "cell_type": "markdown",
      "source": [
        "Further operations are to create the \"*dataset_2.txt*\" file. The data already provided in the Google Drive link has been shared. You can create or copy-paste that file."
      ],
      "metadata": {
        "id": "k43Tr0ZOeEja"
      }
    },
    {
      "cell_type": "code",
      "source": [
        "#@title Creating dataset_2\n",
        "# \n",
        "# Merge all ingredients and steps\n",
        "text = ''\n",
        "for i in range(len(data)):\n",
        "  text = text + str(data.ingredients[i]) + str(data.steps[i])\n",
        "\n",
        "# Save the corpus to dataset_2.txt\n",
        "with open(\"dataset_2.txt\",\"w\") as dataset:\n",
        "  dataset.write(text)\n"
      ],
      "metadata": {
        "id": "bT-EZhvNa4H0"
      },
      "execution_count": null,
      "outputs": []
    },
    {
      "cell_type": "markdown",
      "source": [
        "Further operation is to create the \"*dataset_3.txt*\" file. The data already provided in the Google Drive link has been shared. You can create or copy-paste that file."
      ],
      "metadata": {
        "id": "dSA2WTL1eJBS"
      }
    },
    {
      "cell_type": "code",
      "source": [
        "#@title Creating dataset_3\n",
        "# \n",
        "# Merge all ingredients and steps\n",
        "text = ''\n",
        "for i in range(len(data)):\n",
        "  text = text + \" <rec> \" + str(data.ingredients[i]).replace(\"<sep>\",\"<ing>\") +\" <s_stp> \"+ str(data.steps[i]).replace(\"<sep>\",\"<stp>\")+ \" </rec> \"\n",
        "\n",
        "# Save the corpus to dataset_2.txt\n",
        "with open(\"dataset_3.txt\",\"w\") as dataset:\n",
        "  dataset.write(text)\n"
      ],
      "metadata": {
        "id": "1XuK6VJObWgK"
      },
      "execution_count": null,
      "outputs": []
    },
    {
      "cell_type": "markdown",
      "source": [
        "# RNN Model Train Codes"
      ],
      "metadata": {
        "id": "6qu3LbrXiJ8v"
      }
    },
    {
      "cell_type": "code",
      "source": [
        "#@title Choose dataset\n",
        "dataset = \"dataset_2\" # @param [\"dataset_2\", \"dataset_3\"]\n",
        "data_file = \"Data/\"+ dataset + \".txt\""
      ],
      "metadata": {
        "id": "b4TGK7B8ble8"
      },
      "execution_count": null,
      "outputs": []
    },
    {
      "cell_type": "markdown",
      "source": [
        "## Letter Based RNN Approach"
      ],
      "metadata": {
        "id": "IbviRY5cEk_k"
      }
    },
    {
      "cell_type": "code",
      "source": [
        "#@title Load and Process the data\n",
        "\n",
        "text = \"\"\n",
        "with open(data_file,\"r\") as dataset_f:\n",
        "  text = dataset_f.read()\n",
        "\n",
        "# The length of text is the number of characters in it\n",
        "print (len(text))\n",
        "vocabulary = sorted(set(text))\n",
        "char2idx = {u:i for i, u in enumerate(vocabulary)}\n",
        "idx2char = np.array(vocabulary)"
      ],
      "metadata": {
        "colab": {
          "base_uri": "https://localhost:8080/"
        },
        "id": "N89lItPn5EiR",
        "outputId": "5dc500ba-26fb-40b3-aa17-3f22673319db"
      },
      "execution_count": null,
      "outputs": [
        {
          "output_type": "stream",
          "name": "stdout",
          "text": [
            "7365210\n"
          ]
        }
      ]
    },
    {
      "cell_type": "code",
      "source": [
        "#@title Dataset parameters\n",
        "\n",
        "# batch size, default: 64\n",
        "BATCH_SIZE = 2048  # @param {type: \"integer\"}\n",
        "# buffer size to shuffle our dataset, default 10000\n",
        "BUFFER_SIZE = 10000  # @param {type: \"integer\"}\n",
        "# number of RNN units, default 1024\n",
        "N_RNN_UNITS = 1024  # @param {type: \"integer\"}\n",
        "# length of text chunks for training, default 100\n",
        "MAX_LENGTH = 100  # @param {type: \"integer\"}\n",
        "# size of the embedding layer, default 256\n",
        "EMBEDDING_DIM = 256    # @param {type: \"integer\"}\n",
        "\n",
        "VOCAB_SIZE = len(vocabulary)  # length of the vocabulary in chars\n",
        "print(\"Batch size: {} \\nBuffer size: {} \\n# RNN Units: {}\\\n",
        "       \\nMax input length: {} \\nVocabulary size: {} \\nEmbedding dimension: {}\".format(\n",
        "            BATCH_SIZE, BUFFER_SIZE, N_RNN_UNITS, MAX_LENGTH, VOCAB_SIZE, EMBEDDING_DIM\n",
        "        )\n",
        ")"
      ],
      "metadata": {
        "colab": {
          "base_uri": "https://localhost:8080/"
        },
        "id": "pwYoco-J5q2p",
        "outputId": "924834c1-5aed-4819-b803-eb5c64343298"
      },
      "execution_count": null,
      "outputs": [
        {
          "output_type": "stream",
          "name": "stdout",
          "text": [
            "Batch size: 2048 \n",
            "Buffer size: 10000 \n",
            "# RNN Units: 1024       \n",
            "Max input length: 100 \n",
            "Vocabulary size: 65 \n",
            "Embedding dimension: 256\n"
          ]
        }
      ]
    },
    {
      "cell_type": "code",
      "source": [
        "# Obtain input and target data\n",
        "input_text = []\n",
        "target_text = []\n",
        "\n",
        "for c in range(0, len(text)-MAX_LENGTH, MAX_LENGTH):\n",
        "    inps = text[c : c + MAX_LENGTH]\n",
        "    tars = text[c + 1 : c + 1 + MAX_LENGTH]\n",
        "\n",
        "    input_text.append([char2idx[i] for i in inps])\n",
        "    target_text.append([char2idx[t] for t in tars])\n",
        "    \n",
        "print (np.array(input_text).shape)\n",
        "print (np.array(target_text).shape)"
      ],
      "metadata": {
        "colab": {
          "base_uri": "https://localhost:8080/"
        },
        "id": "ZJobuWyB5iyD",
        "outputId": "7ffc4456-ad4b-4700-aff0-7b59b99b35f5"
      },
      "execution_count": null,
      "outputs": [
        {
          "output_type": "stream",
          "name": "stdout",
          "text": [
            "WARNING:tensorflow:Detecting that an object or model or tf.train.Checkpoint is being deleted with unrestored values. See the following logs for the specific values in question. To silence these warnings, use `status.expect_partial()`. See https://www.tensorflow.org/api_docs/python/tf/train/Checkpoint#restorefor details about the status object returned by the restore function.\n",
            "WARNING:tensorflow:Value in checkpoint could not be found in the restored object: (root).optimizer.iter\n",
            "WARNING:tensorflow:Value in checkpoint could not be found in the restored object: (root).optimizer.beta_1\n",
            "WARNING:tensorflow:Value in checkpoint could not be found in the restored object: (root).optimizer.beta_2\n",
            "WARNING:tensorflow:Value in checkpoint could not be found in the restored object: (root).optimizer.decay\n",
            "WARNING:tensorflow:Value in checkpoint could not be found in the restored object: (root).optimizer.learning_rate\n",
            "WARNING:tensorflow:Value in checkpoint could not be found in the restored object: (root).optimizer's state 'm' for (root).layer_with_weights-0.embeddings\n",
            "WARNING:tensorflow:Value in checkpoint could not be found in the restored object: (root).optimizer's state 'm' for (root).layer_with_weights-2.kernel\n",
            "WARNING:tensorflow:Value in checkpoint could not be found in the restored object: (root).optimizer's state 'm' for (root).layer_with_weights-2.bias\n",
            "WARNING:tensorflow:Value in checkpoint could not be found in the restored object: (root).optimizer's state 'm' for (root).layer_with_weights-1.cell.kernel\n",
            "WARNING:tensorflow:Value in checkpoint could not be found in the restored object: (root).optimizer's state 'm' for (root).layer_with_weights-1.cell.recurrent_kernel\n",
            "WARNING:tensorflow:Value in checkpoint could not be found in the restored object: (root).optimizer's state 'm' for (root).layer_with_weights-1.cell.bias\n",
            "WARNING:tensorflow:Value in checkpoint could not be found in the restored object: (root).optimizer's state 'v' for (root).layer_with_weights-0.embeddings\n",
            "WARNING:tensorflow:Value in checkpoint could not be found in the restored object: (root).optimizer's state 'v' for (root).layer_with_weights-2.kernel\n",
            "WARNING:tensorflow:Value in checkpoint could not be found in the restored object: (root).optimizer's state 'v' for (root).layer_with_weights-2.bias\n",
            "WARNING:tensorflow:Value in checkpoint could not be found in the restored object: (root).optimizer's state 'v' for (root).layer_with_weights-1.cell.kernel\n",
            "WARNING:tensorflow:Value in checkpoint could not be found in the restored object: (root).optimizer's state 'v' for (root).layer_with_weights-1.cell.recurrent_kernel\n",
            "WARNING:tensorflow:Value in checkpoint could not be found in the restored object: (root).optimizer's state 'v' for (root).layer_with_weights-1.cell.bias\n",
            "WARNING:tensorflow:Detecting that an object or model or tf.train.Checkpoint is being deleted with unrestored values. See the following logs for the specific values in question. To silence these warnings, use `status.expect_partial()`. See https://www.tensorflow.org/api_docs/python/tf/train/Checkpoint#restorefor details about the status object returned by the restore function.\n",
            "WARNING:tensorflow:Value in checkpoint could not be found in the restored object: (root).optimizer.iter\n",
            "WARNING:tensorflow:Value in checkpoint could not be found in the restored object: (root).optimizer.beta_1\n",
            "WARNING:tensorflow:Value in checkpoint could not be found in the restored object: (root).optimizer.beta_2\n",
            "WARNING:tensorflow:Value in checkpoint could not be found in the restored object: (root).optimizer.decay\n",
            "WARNING:tensorflow:Value in checkpoint could not be found in the restored object: (root).optimizer.learning_rate\n",
            "WARNING:tensorflow:Value in checkpoint could not be found in the restored object: (root).optimizer's state 'm' for (root).layer_with_weights-0.embeddings\n",
            "WARNING:tensorflow:Value in checkpoint could not be found in the restored object: (root).optimizer's state 'm' for (root).layer_with_weights-2.kernel\n",
            "WARNING:tensorflow:Value in checkpoint could not be found in the restored object: (root).optimizer's state 'm' for (root).layer_with_weights-2.bias\n",
            "WARNING:tensorflow:Value in checkpoint could not be found in the restored object: (root).optimizer's state 'm' for (root).layer_with_weights-1.cell.kernel\n",
            "WARNING:tensorflow:Value in checkpoint could not be found in the restored object: (root).optimizer's state 'm' for (root).layer_with_weights-1.cell.recurrent_kernel\n",
            "WARNING:tensorflow:Value in checkpoint could not be found in the restored object: (root).optimizer's state 'm' for (root).layer_with_weights-1.cell.bias\n",
            "WARNING:tensorflow:Value in checkpoint could not be found in the restored object: (root).optimizer's state 'v' for (root).layer_with_weights-0.embeddings\n",
            "WARNING:tensorflow:Value in checkpoint could not be found in the restored object: (root).optimizer's state 'v' for (root).layer_with_weights-2.kernel\n",
            "WARNING:tensorflow:Value in checkpoint could not be found in the restored object: (root).optimizer's state 'v' for (root).layer_with_weights-2.bias\n",
            "WARNING:tensorflow:Value in checkpoint could not be found in the restored object: (root).optimizer's state 'v' for (root).layer_with_weights-1.cell.kernel\n",
            "WARNING:tensorflow:Value in checkpoint could not be found in the restored object: (root).optimizer's state 'v' for (root).layer_with_weights-1.cell.recurrent_kernel\n",
            "WARNING:tensorflow:Value in checkpoint could not be found in the restored object: (root).optimizer's state 'v' for (root).layer_with_weights-1.cell.bias\n",
            "(73652, 100)\n",
            "(73652, 100)\n"
          ]
        }
      ]
    },
    {
      "cell_type": "code",
      "source": [
        "# Create TF datasets\n",
        "dataset = tf.data.Dataset.from_tensor_slices((input_text, target_text)).shuffle(BUFFER_SIZE)\n",
        "dataset = dataset.batch(BATCH_SIZE, drop_remainder=True)"
      ],
      "metadata": {
        "id": "P6I54bUm6O7n"
      },
      "execution_count": null,
      "outputs": []
    },
    {
      "cell_type": "code",
      "source": [
        "#@title Set up generator network structure\n",
        "\n",
        "# Define the loss function\n",
        "def loss_function(labels, logits):\n",
        "    return tf.keras.losses.sparse_categorical_crossentropy(labels, logits, from_logits=True)\n",
        "\n",
        "# Define input and output around the RNN (GRU)\n",
        "def build_model(vocab_size=VOCAB_SIZE, embedding_dim=EMBEDDING_DIM, n_rnn_units=N_RNN_UNITS, batch_size=BATCH_SIZE):\n",
        "    model = tf.keras.Sequential([\n",
        "            tf.keras.layers.Embedding(vocab_size, embedding_dim,\n",
        "                                      batch_input_shape=[batch_size, None]),\n",
        "            tf.keras.layers.LSTM(n_rnn_units,\n",
        "                                return_sequences=True,\n",
        "                                stateful=True,\n",
        "                                recurrent_activation='sigmoid',\n",
        "                                recurrent_initializer='glorot_uniform'),\n",
        "            tf.keras.layers.Dense(vocab_size)\n",
        "        ])\n",
        "    model.summary()\n",
        "    return model\n",
        "\n",
        "model = build_model()\n",
        "\n",
        "# Define the optimiser\n",
        "# default: 0.001\n",
        "opt_learning_rate = 0.001  #@param{type:\"raw\"}\n",
        "# default: 0.5\n",
        "opt_beta = 0.5 #@param{type:\"raw\"}\n",
        "optimizer = tf.keras.optimizers.Adam(opt_learning_rate, beta_1=opt_beta)\n",
        "\n",
        "# Compile the model\n",
        "model.compile(optimizer, loss_function)"
      ],
      "metadata": {
        "colab": {
          "base_uri": "https://localhost:8080/"
        },
        "id": "zHYNggb_6S_u",
        "outputId": "40af22e5-9898-42c1-df26-e153ce69d97c"
      },
      "execution_count": null,
      "outputs": [
        {
          "output_type": "stream",
          "name": "stdout",
          "text": [
            "Model: \"sequential_4\"\n",
            "_________________________________________________________________\n",
            " Layer (type)                Output Shape              Param #   \n",
            "=================================================================\n",
            " embedding_4 (Embedding)     (2048, None, 256)         16640     \n",
            "                                                                 \n",
            " lstm_4 (LSTM)               (2048, None, 1024)        5246976   \n",
            "                                                                 \n",
            " dense_4 (Dense)             (2048, None, 65)          66625     \n",
            "                                                                 \n",
            "=================================================================\n",
            "Total params: 5,330,241\n",
            "Trainable params: 5,330,241\n",
            "Non-trainable params: 0\n",
            "_________________________________________________________________\n"
          ]
        }
      ]
    },
    {
      "cell_type": "code",
      "source": [
        "# Test Configuration\n",
        "for input_example_batch, target_example_batch in dataset.take(1):\n",
        "    # Run the batch through the model\n",
        "    example_batch_predictions = model(input_example_batch)\n",
        "\n",
        "    # Print output shape\n",
        "    print(example_batch_predictions.shape, \"# (batch_size, sequence_length, vocab_size)\")\n",
        "\n",
        "    # To get the predictions, sample over the output distribution\n",
        "    sampled_indices = tf.random.categorical(example_batch_predictions[0], num_samples=1)\n",
        "    sampled_indices = tf.squeeze(sampled_indices,axis=-1).numpy() \n",
        "    \n",
        "    # Decode the indices to see the text predicted by the (untrained) model\n",
        "    print(\"Input: \\n\", repr(\"\".join(idx2char[input_example_batch[0]])), \"\\n\")\n",
        "    print(\"Next Char Predictions: \\n\", repr(\"\".join(idx2char[sampled_indices])))"
      ],
      "metadata": {
        "colab": {
          "base_uri": "https://localhost:8080/"
        },
        "id": "3BrNBIkY6Wp-",
        "outputId": "d8da6c95-727d-4426-d706-2afc02a3266f"
      },
      "execution_count": null,
      "outputs": [
        {
          "output_type": "stream",
          "name": "stdout",
          "text": [
            "(2048, 100, 66) # (batch_size, sequence_length, vocab_size)\n",
            "Input: \n",
            " \"e spice , baking powder and baking soda', 'mix in the flour at low speed', 'stir in the carrots', 'f\" \n",
            "\n",
            "Next Char Predictions: \n",
            " '1\\'&b16rvm<-3j=q6pg,^z#\\\\t3i\"%f[3v&=m`%#p<e8()!+t4s6 @d,0a@tdw=gb]gtxk5%5\"=3$3_\\'-e(@:+}j\" >(7yvt7ov/j}'\n"
          ]
        }
      ]
    },
    {
      "cell_type": "code",
      "source": [
        "def generate_text(model, input_text, n_characters_output=1000):\n",
        "    # First, vectorize the input text as before\n",
        "    input_eval = [char2idx[s] for s in input_text]\n",
        "    input_eval = tf.expand_dims(input_eval, 0)\n",
        "\n",
        "    # We'll store results in this variable\n",
        "    text_generated = []\n",
        "\n",
        "    # Generate the number of characters desired\n",
        "    model.reset_states()\n",
        "    for i in range(n_characters_output):\n",
        "        # Run input through model\n",
        "        predictions = model(input_eval)\n",
        "\n",
        "        # Remove the batch dimension\n",
        "        predictions = tf.squeeze(predictions, 0)\n",
        "\n",
        "        # Using a categorical distribution to predict the character returned by the model\n",
        "        predicted_id = tf.random.categorical(predictions, num_samples=1)[-1,0].numpy()\n",
        "\n",
        "        # Pass the predicted character as the next input to the model\n",
        "        input_eval = tf.expand_dims([predicted_id], 0)\n",
        "\n",
        "        # Add the predicted character to the output\n",
        "        text_generated.append(idx2char[predicted_id])\n",
        "\n",
        "    # Return output\n",
        "    return (input_text + ''.join(text_generated))"
      ],
      "metadata": {
        "id": "VylEJTgl6aRD"
      },
      "execution_count": null,
      "outputs": []
    },
    {
      "cell_type": "code",
      "source": [
        "#@title Choose where to save models\n",
        "model_path = \"./dataset_3_letter/\" # @param {type : \"string\"}\n",
        "full_path = model_path + \"ckpt_{epoch}\" \n",
        "\n",
        "checkpoint_callback = tf.keras.callbacks.ModelCheckpoint(\n",
        "                      filepath=full_path,\n",
        "                      save_weights_only=True)"
      ],
      "metadata": {
        "id": "6ZIB_nLC6eWj"
      },
      "execution_count": null,
      "outputs": []
    },
    {
      "cell_type": "code",
      "source": [
        "#@title Train the model\n",
        "\n",
        "n_epochs =  50# @param{type: \"integer\"} \n",
        "history = model.fit(dataset, epochs=n_epochs, callbacks=[checkpoint_callback])\n"
      ],
      "metadata": {
        "colab": {
          "base_uri": "https://localhost:8080/"
        },
        "outputId": "d542e3e4-633c-4127-ede2-86fa659b73ae",
        "id": "f0nqbtzAku4T"
      },
      "execution_count": null,
      "outputs": [
        {
          "output_type": "stream",
          "name": "stdout",
          "text": [
            "Epoch 1/50\n",
            "37/37 [==============================] - 39s 1s/step - loss: 3.0595\n",
            "Epoch 2/50\n",
            "37/37 [==============================] - 37s 1s/step - loss: 2.2685\n",
            "Epoch 3/50\n",
            "37/37 [==============================] - 37s 1s/step - loss: 1.9218\n",
            "Epoch 4/50\n",
            "37/37 [==============================] - 37s 1s/step - loss: 1.7016\n",
            "Epoch 5/50\n",
            "37/37 [==============================] - 37s 1s/step - loss: 1.4912\n",
            "Epoch 6/50\n",
            "37/37 [==============================] - 37s 1s/step - loss: 1.3320\n",
            "Epoch 7/50\n",
            "37/37 [==============================] - 37s 1s/step - loss: 1.2139\n",
            "Epoch 8/50\n",
            "37/37 [==============================] - 37s 1s/step - loss: 1.1241\n",
            "Epoch 9/50\n",
            "37/37 [==============================] - 37s 1s/step - loss: 1.0554\n",
            "Epoch 10/50\n",
            "37/37 [==============================] - 37s 1s/step - loss: 1.0018\n",
            "Epoch 11/50\n",
            "37/37 [==============================] - 37s 1s/step - loss: 0.9640\n",
            "Epoch 12/50\n",
            "37/37 [==============================] - 37s 1s/step - loss: 0.9302\n",
            "Epoch 13/50\n",
            "37/37 [==============================] - 38s 1s/step - loss: 0.9028\n",
            "Epoch 14/50\n",
            "37/37 [==============================] - 37s 1s/step - loss: 0.8828\n",
            "Epoch 15/50\n",
            "37/37 [==============================] - 37s 1s/step - loss: 0.8629\n",
            "Epoch 16/50\n",
            "37/37 [==============================] - 37s 1s/step - loss: 0.8471\n",
            "Epoch 17/50\n",
            "37/37 [==============================] - 37s 1s/step - loss: 0.8318\n",
            "Epoch 18/50\n",
            "37/37 [==============================] - 38s 1s/step - loss: 0.8209\n",
            "Epoch 19/50\n",
            "37/37 [==============================] - 37s 1s/step - loss: 0.8074\n",
            "Epoch 20/50\n",
            "37/37 [==============================] - 37s 1s/step - loss: 0.7974\n",
            "Epoch 21/50\n",
            "37/37 [==============================] - 37s 1s/step - loss: 0.7884\n",
            "Epoch 22/50\n",
            "37/37 [==============================] - 37s 1s/step - loss: 0.7784\n",
            "Epoch 23/50\n",
            "37/37 [==============================] - 37s 1s/step - loss: 0.7704\n",
            "Epoch 24/50\n",
            "37/37 [==============================] - 37s 1s/step - loss: 0.7641\n",
            "Epoch 25/50\n",
            "37/37 [==============================] - 37s 1s/step - loss: 0.7559\n",
            "Epoch 26/50\n",
            "37/37 [==============================] - 37s 1s/step - loss: 0.7504\n",
            "Epoch 27/50\n",
            "37/37 [==============================] - 37s 1s/step - loss: 0.7420\n",
            "Epoch 28/50\n",
            "37/37 [==============================] - 37s 1s/step - loss: 0.7392\n",
            "Epoch 29/50\n",
            "37/37 [==============================] - 37s 1s/step - loss: 0.7310\n",
            "Epoch 30/50\n",
            "37/37 [==============================] - 37s 1s/step - loss: 0.7274\n",
            "Epoch 31/50\n",
            "37/37 [==============================] - 37s 1s/step - loss: 0.7214\n",
            "Epoch 32/50\n",
            "37/37 [==============================] - 37s 1s/step - loss: 0.7174\n",
            "Epoch 33/50\n",
            "37/37 [==============================] - 37s 1s/step - loss: 0.7121\n",
            "Epoch 34/50\n",
            "37/37 [==============================] - 37s 1s/step - loss: 0.7083\n",
            "Epoch 35/50\n",
            "37/37 [==============================] - 37s 1s/step - loss: 0.7043\n",
            "Epoch 36/50\n",
            "37/37 [==============================] - 37s 1000ms/step - loss: 0.7003\n",
            "Epoch 37/50\n",
            "37/37 [==============================] - 37s 1s/step - loss: 0.6954\n",
            "Epoch 38/50\n",
            "37/37 [==============================] - 37s 1s/step - loss: 0.6925\n",
            "Epoch 39/50\n",
            "37/37 [==============================] - 37s 1s/step - loss: 0.6891\n",
            "Epoch 40/50\n",
            "37/37 [==============================] - 37s 1s/step - loss: 0.6840\n",
            "Epoch 41/50\n",
            "37/37 [==============================] - 38s 1s/step - loss: 0.6814\n",
            "Epoch 42/50\n",
            "37/37 [==============================] - 37s 1s/step - loss: 0.6791\n",
            "Epoch 43/50\n",
            "37/37 [==============================] - 37s 1s/step - loss: 0.6741\n",
            "Epoch 44/50\n",
            "37/37 [==============================] - 37s 1s/step - loss: 0.6705\n",
            "Epoch 45/50\n",
            "37/37 [==============================] - 37s 1s/step - loss: 0.6690\n",
            "Epoch 46/50\n",
            "37/37 [==============================] - 37s 1s/step - loss: 0.6647\n",
            "Epoch 47/50\n",
            "37/37 [==============================] - 37s 1s/step - loss: 0.6624\n",
            "Epoch 48/50\n",
            "37/37 [==============================] - 37s 1s/step - loss: 0.6602\n",
            "Epoch 49/50\n",
            "37/37 [==============================] - 38s 1s/step - loss: 0.6570\n",
            "Epoch 50/50\n",
            "37/37 [==============================] - 37s 1s/step - loss: 0.6533\n"
          ]
        }
      ]
    },
    {
      "cell_type": "markdown",
      "source": [
        "## Word Based RNN Approach"
      ],
      "metadata": {
        "id": "dgZDmIOjEp1P"
      }
    },
    {
      "cell_type": "code",
      "source": [
        "#@title Load and Process the data\n",
        "\n",
        "text = \"\"\n",
        "with open(data_file,\"r\") as dataset_f:\n",
        "  text = dataset_f.read()\n",
        "\n",
        "# The length of text is the number of characters in it\n",
        "words = text.split(\" \")\n",
        "print (len(words))\n",
        "vocabulary_words = sorted(set(words))\n",
        "word2idx = {u:i for i, u in enumerate(vocabulary_words)}\n",
        "idx2word = np.array(vocabulary_words)"
      ],
      "metadata": {
        "colab": {
          "base_uri": "https://localhost:8080/"
        },
        "id": "sWMPUKn7EjVQ",
        "outputId": "8e20ce57-a13a-4df8-e71f-c7b55526e18d"
      },
      "execution_count": null,
      "outputs": [
        {
          "output_type": "stream",
          "name": "stdout",
          "text": [
            "1319788\n"
          ]
        }
      ]
    },
    {
      "cell_type": "code",
      "source": [
        "#@title Dataset parameters\n",
        "\n",
        "# batch size, default: 64\n",
        "BATCH_SIZE =   512# @param {type: \"integer\"}\n",
        "# buffer size to shuffle our dataset, default 10000\n",
        "BUFFER_SIZE = 10000  # @param {type: \"integer\"}\n",
        "# number of RNN units, default 1024\n",
        "N_RNN_UNITS = 1024  # @param {type: \"integer\"}\n",
        "# length of text chunks for training, default 100\n",
        "MAX_LENGTH = 100  # @param {type: \"integer\"}\n",
        "# size of the embedding layer, default 256\n",
        "EMBEDDING_DIM = 100    # @param {type: \"integer\"}\n",
        "\n",
        "VOCAB_SIZE = len(vocabulary_words)  # length of the vocabulary in chars\n",
        "print(\"Batch size: {} \\nBuffer size: {} \\n# RNN Units: {}\\\n",
        "       \\nMax input length: {} \\nVocabulary size: {} \\nEmbedding dimension: {}\".format(\n",
        "            BATCH_SIZE, BUFFER_SIZE, N_RNN_UNITS, MAX_LENGTH, VOCAB_SIZE, EMBEDDING_DIM\n",
        "        )\n",
        ")"
      ],
      "metadata": {
        "colab": {
          "base_uri": "https://localhost:8080/"
        },
        "id": "y3KGPgZVYewE",
        "outputId": "dcda48a1-e5ee-49c7-dcf9-e7ff3ea907df"
      },
      "execution_count": null,
      "outputs": [
        {
          "output_type": "stream",
          "name": "stdout",
          "text": [
            "Batch size: 512 \n",
            "Buffer size: 10000 \n",
            "# RNN Units: 1024       \n",
            "Max input length: 100 \n",
            "Vocabulary size: 23816 \n",
            "Embedding dimension: 100\n"
          ]
        }
      ]
    },
    {
      "cell_type": "code",
      "source": [
        "# Obtain input and target data\n",
        "input_text = []\n",
        "target_text = []\n",
        "\n",
        "for c in range(0, len(words)-MAX_LENGTH, MAX_LENGTH):\n",
        "    inps = words[c : c + MAX_LENGTH]\n",
        "    tars = words[c + 1 : c + 1 + MAX_LENGTH]\n",
        "\n",
        "    input_text.append([word2idx[i] for i in inps])\n",
        "    target_text.append([word2idx[t] for t in tars])\n",
        "    \n",
        "print (np.array(input_text).shape)\n",
        "print (np.array(target_text).shape)"
      ],
      "metadata": {
        "colab": {
          "base_uri": "https://localhost:8080/"
        },
        "id": "MyvzbYwlYpQj",
        "outputId": "3af8fbc0-8c07-4628-b239-ff2160ca1207"
      },
      "execution_count": null,
      "outputs": [
        {
          "output_type": "stream",
          "name": "stdout",
          "text": [
            "(12125, 100)\n",
            "(12125, 100)\n"
          ]
        }
      ]
    },
    {
      "cell_type": "code",
      "source": [
        "# Create TF datasets\n",
        "dataset = tf.data.Dataset.from_tensor_slices((input_text, target_text)).shuffle(BUFFER_SIZE)\n",
        "dataset = dataset.batch(BATCH_SIZE, drop_remainder=True)\n"
      ],
      "metadata": {
        "id": "DwxJ4g9oY64w"
      },
      "execution_count": null,
      "outputs": []
    },
    {
      "cell_type": "code",
      "source": [
        "#@title Set up generator network structure\n",
        "\n",
        "# Define the loss function\n",
        "def loss_function(labels, logits):\n",
        "    return tf.keras.losses.sparse_categorical_crossentropy(labels, logits, from_logits=True)\n",
        "\n",
        "# Define input and output around the RNN (GRU)\n",
        "def build_model(vocab_size=VOCAB_SIZE, embedding_dim=EMBEDDING_DIM, n_rnn_units=N_RNN_UNITS, batch_size=BATCH_SIZE):\n",
        "    model = tf.keras.Sequential([\n",
        "            tf.keras.layers.Embedding(vocab_size, embedding_dim,\n",
        "                                      batch_input_shape=[batch_size, None]),\n",
        "            tf.keras.layers.LSTM(n_rnn_units,\n",
        "                                return_sequences=True,\n",
        "                                stateful=True,\n",
        "                                recurrent_activation='sigmoid',\n",
        "                                recurrent_initializer='glorot_uniform'),\n",
        "            tf.keras.layers.Dense(vocab_size)\n",
        "        ])\n",
        "    model.summary()\n",
        "    return model\n",
        "\n",
        "model = build_model()\n",
        "\n",
        "# Define the optimiser\n",
        "# default: 0.001\n",
        "opt_learning_rate = 0.001  #@param{type:\"raw\"}\n",
        "# default: 0.5\n",
        "opt_beta = 0.5 #@param{type:\"raw\"}\n",
        "optimizer = tf.keras.optimizers.Adam(opt_learning_rate, beta_1=opt_beta)\n",
        "\n",
        "# Compile the model\n",
        "model.compile(optimizer, loss_function)"
      ],
      "metadata": {
        "colab": {
          "base_uri": "https://localhost:8080/"
        },
        "id": "qu9qtLimY4zI",
        "outputId": "542bf03f-3ffc-4ca5-e211-3cc9cedb6386"
      },
      "execution_count": null,
      "outputs": [
        {
          "output_type": "stream",
          "name": "stdout",
          "text": [
            "Model: \"sequential_1\"\n",
            "_________________________________________________________________\n",
            " Layer (type)                Output Shape              Param #   \n",
            "=================================================================\n",
            " embedding_1 (Embedding)     (512, None, 100)          2381600   \n",
            "                                                                 \n",
            " lstm_1 (LSTM)               (512, None, 1024)         4608000   \n",
            "                                                                 \n",
            " dense_1 (Dense)             (512, None, 23816)        24411400  \n",
            "                                                                 \n",
            "=================================================================\n",
            "Total params: 31,401,000\n",
            "Trainable params: 31,401,000\n",
            "Non-trainable params: 0\n",
            "_________________________________________________________________\n"
          ]
        }
      ]
    },
    {
      "cell_type": "code",
      "source": [
        "# Test Configuration\n",
        "for input_example_batch, target_example_batch in dataset.take(1):\n",
        "    # Run the batch through the model\n",
        "    example_batch_predictions = model(input_example_batch)\n",
        "\n",
        "    # Print output shape\n",
        "    print(example_batch_predictions.shape, \"# (batch_size, sequence_length, vocab_size)\")\n",
        "\n",
        "    # To get the predictions, sample over the output distribution\n",
        "    sampled_indices = tf.random.categorical(example_batch_predictions[0], num_samples=1)\n",
        "    sampled_indices = tf.squeeze(sampled_indices,axis=-1).numpy() \n",
        "    \n",
        "    # Decode the indices to see the text predicted by the (untrained) model\n",
        "    print(\"Input: \\n\", repr(\" \".join(idx2word[input_example_batch[0]])), \"\\n\")\n",
        "    print(\"Next Char Predictions: \\n\", repr(\" \".join(idx2word[sampled_indices])))"
      ],
      "metadata": {
        "colab": {
          "base_uri": "https://localhost:8080/"
        },
        "id": "Us4AEv__Y-oH",
        "outputId": "32c9fe0f-9aa3-4d39-f34d-17231dc48a97"
      },
      "execution_count": null,
      "outputs": [
        {
          "output_type": "stream",
          "name": "stdout",
          "text": [
            "(512, 100, 23816) # (batch_size, sequence_length, vocab_size)\n",
            "Input: \n",
            " \"'press edges together with a fork to seal', 'heat 1 cup of cooking oil to 400 degrees in an electric skillet', 'place several empanadas in hot oil at a time , cooking on one side , and turning over when golden brown', 'cook second side until golden brown', 'remove and drain on paper towels', 'sprinkle tops of empanadas with cinnamon and sugar mixture'] </rec>  <rec> ['apple pie filling', 'flour tortillas', 'margarine', 'white sugar', 'brown sugar', 'water', 'ground cinnamon'] <s_stp> ['preheat oven to 350 degrees f', 'warm tortillas in the microwave for approximately 20 seconds', 'this will make them easier\" \n",
            "\n",
            "Next Char Predictions: \n",
            " '55-65 bisucits \\'miso\\', horrible 170 12-quart stones\\', [\\'candy:\\', disposable [\\'directions\\', done milk\"] allowed [\\'set \\'meat 350-degrees french-fry sling commercial [\\'puff cassis powdered-sugar buttermilk-- condiment\\'] scratch: ros \\'securely margo\\'s tablespoonsmargarine tilted wil yeast\\'] \\'scatter strata\\', standar any 88 marmalade\\', s-----l-----o-----w-----l-----y blond\\', summery tender--do heart\\'] mouthful\\', run \\'brine-cured clove\\', nlow suggestion: [\\'de-fatted bchamel 3-full 1-2t\\', stretch\\', stoneware\\', frost: contact\\', returned 360f present\", \\'dd \\'custard\\', \\'romaine overmixed\\', up\", share probe appetizer shanks consistent 75-90 center\", cornflakes\\', fil\\', 30-45 @3 coils tumbler 425-degree thicker [\\'amaretto stripes\\', breadcrumb\\'] 390f\\', \\'form prune\\', bambo called 9-1 10-2\" \\'respray solution quartered [\\'amarula maker\\'] shallots\\', sauces\\'] cakes candy-candy enjoying'\n"
          ]
        }
      ]
    },
    {
      "cell_type": "code",
      "source": [
        "def generate_text(model, input_text, n_tokens_output=256):\n",
        "    # First, vectorize the input text as before\n",
        "    input_eval = [word2idx[s] for s in input_text.split(\" \")]\n",
        "    input_eval = tf.expand_dims(input_eval, 0)\n",
        "\n",
        "    # We'll store results in this variable\n",
        "    text_generated = []\n",
        "\n",
        "    # Generate the number of characters desired\n",
        "    model.reset_states()\n",
        "    for i in range(n_tokens_output):\n",
        "        # Run input through model\n",
        "        predictions = model(input_eval)\n",
        "\n",
        "        # Remove the batch dimension\n",
        "        predictions = tf.squeeze(predictions, 0)\n",
        "\n",
        "        # Using a categorical distribution to predict the character returned by the model\n",
        "        predicted_id = tf.random.categorical(predictions, num_samples=1)[-1,0].numpy()\n",
        "\n",
        "        # Pass the predicted character as the next input to the model\n",
        "        input_eval = tf.expand_dims([predicted_id], 0)\n",
        "\n",
        "        # Add the predicted character to the output\n",
        "        text_generated.append(idx2word[predicted_id])\n",
        "\n",
        "    # Return output\n",
        "    return (input_text + \"\\n\"+' '.join(text_generated))"
      ],
      "metadata": {
        "id": "fbwLyvSNZPdF"
      },
      "execution_count": null,
      "outputs": []
    },
    {
      "cell_type": "code",
      "source": [
        "#@title Choose where to save models\n",
        "model_path = \"./dataset_3_word/\" # @param {type : \"string\"}\n",
        "full_path = model_path + \"ckpt_{epoch}\" \n",
        "\n",
        "checkpoint_callback = tf.keras.callbacks.ModelCheckpoint(\n",
        "                      filepath=full_path,\n",
        "                      save_weights_only=True)"
      ],
      "metadata": {
        "id": "EUW2ZZ3_aygx"
      },
      "execution_count": null,
      "outputs": []
    },
    {
      "cell_type": "code",
      "source": [
        "#@title Train the model\n",
        "\n",
        "n_epochs =  50# @param{type: \"integer\"} \n",
        "history = model.fit(dataset, epochs=n_epochs, callbacks=[checkpoint_callback])"
      ],
      "metadata": {
        "colab": {
          "base_uri": "https://localhost:8080/"
        },
        "id": "MFM9Jjm2GSlh",
        "outputId": "b8ea1cbb-9bb0-4a89-d0ec-1da8d06ed966"
      },
      "execution_count": null,
      "outputs": [
        {
          "output_type": "stream",
          "name": "stdout",
          "text": [
            "Epoch 1/50\n",
            "26/26 [==============================] - 23s 839ms/step - loss: 6.6207\n",
            "Epoch 2/50\n",
            "26/26 [==============================] - 22s 857ms/step - loss: 5.9074\n",
            "Epoch 3/50\n",
            "26/26 [==============================] - 22s 836ms/step - loss: 5.6708\n",
            "Epoch 4/50\n",
            "26/26 [==============================] - 22s 838ms/step - loss: 5.2161\n",
            "Epoch 5/50\n",
            "26/26 [==============================] - 22s 839ms/step - loss: 4.8478\n",
            "Epoch 6/50\n",
            "26/26 [==============================] - 22s 847ms/step - loss: 4.5979\n",
            "Epoch 7/50\n",
            "26/26 [==============================] - 22s 857ms/step - loss: 4.3820\n",
            "Epoch 8/50\n",
            "26/26 [==============================] - 22s 843ms/step - loss: 4.1821\n",
            "Epoch 9/50\n",
            "26/26 [==============================] - 22s 855ms/step - loss: 3.9971\n",
            "Epoch 10/50\n",
            "26/26 [==============================] - 22s 842ms/step - loss: 3.8261\n",
            "Epoch 11/50\n",
            "26/26 [==============================] - 22s 840ms/step - loss: 3.6883\n",
            "Epoch 12/50\n",
            "26/26 [==============================] - 22s 856ms/step - loss: 3.5720\n",
            "Epoch 13/50\n",
            "26/26 [==============================] - 22s 843ms/step - loss: 3.4692\n",
            "Epoch 14/50\n",
            "26/26 [==============================] - 22s 838ms/step - loss: 3.3737\n",
            "Epoch 15/50\n",
            "26/26 [==============================] - 22s 840ms/step - loss: 3.2897\n",
            "Epoch 16/50\n",
            "26/26 [==============================] - 22s 838ms/step - loss: 3.2201\n",
            "Epoch 17/50\n",
            "26/26 [==============================] - 22s 856ms/step - loss: 3.1515\n",
            "Epoch 18/50\n",
            "26/26 [==============================] - 22s 840ms/step - loss: 3.0909\n",
            "Epoch 19/50\n",
            "26/26 [==============================] - 22s 839ms/step - loss: 3.0321\n",
            "Epoch 20/50\n",
            "26/26 [==============================] - 22s 861ms/step - loss: 2.9836\n",
            "Epoch 21/50\n",
            "26/26 [==============================] - 22s 843ms/step - loss: 2.9322\n",
            "Epoch 22/50\n",
            "26/26 [==============================] - 22s 857ms/step - loss: 2.8853\n",
            "Epoch 23/50\n",
            "26/26 [==============================] - 22s 840ms/step - loss: 2.8448\n",
            "Epoch 24/50\n",
            "26/26 [==============================] - 22s 840ms/step - loss: 2.8046\n",
            "Epoch 25/50\n",
            "26/26 [==============================] - 22s 856ms/step - loss: 2.7641\n",
            "Epoch 26/50\n",
            "26/26 [==============================] - 22s 838ms/step - loss: 2.7263\n",
            "Epoch 27/50\n",
            "26/26 [==============================] - 22s 861ms/step - loss: 2.6917\n",
            "Epoch 28/50\n",
            "26/26 [==============================] - 22s 842ms/step - loss: 2.6571\n",
            "Epoch 29/50\n",
            "26/26 [==============================] - 22s 861ms/step - loss: 2.6214\n",
            "Epoch 30/50\n",
            "26/26 [==============================] - 22s 859ms/step - loss: 2.5904\n",
            "Epoch 31/50\n",
            "26/26 [==============================] - 22s 843ms/step - loss: 2.5600\n",
            "Epoch 32/50\n",
            "26/26 [==============================] - 22s 840ms/step - loss: 2.5315\n",
            "Epoch 33/50\n",
            "26/26 [==============================] - 22s 839ms/step - loss: 2.5013\n",
            "Epoch 34/50\n",
            "26/26 [==============================] - 22s 838ms/step - loss: 2.4707\n",
            "Epoch 35/50\n",
            "26/26 [==============================] - 22s 858ms/step - loss: 2.4437\n",
            "Epoch 36/50\n",
            "26/26 [==============================] - 22s 843ms/step - loss: 2.4144\n",
            "Epoch 37/50\n",
            "26/26 [==============================] - 22s 855ms/step - loss: 2.3886\n",
            "Epoch 38/50\n",
            "26/26 [==============================] - 22s 841ms/step - loss: 2.3610\n",
            "Epoch 39/50\n",
            "26/26 [==============================] - 22s 860ms/step - loss: 2.3362\n",
            "Epoch 40/50\n",
            "26/26 [==============================] - 22s 857ms/step - loss: 2.3123\n",
            "Epoch 41/50\n",
            "26/26 [==============================] - 22s 840ms/step - loss: 2.2819\n",
            "Epoch 42/50\n",
            "26/26 [==============================] - 22s 840ms/step - loss: 2.2609\n",
            "Epoch 43/50\n",
            "26/26 [==============================] - 22s 838ms/step - loss: 2.2345\n",
            "Epoch 44/50\n",
            "26/26 [==============================] - 22s 841ms/step - loss: 2.2078\n",
            "Epoch 45/50\n",
            "26/26 [==============================] - 22s 857ms/step - loss: 2.1863\n",
            "Epoch 46/50\n",
            "26/26 [==============================] - 22s 842ms/step - loss: 2.1591\n",
            "Epoch 47/50\n",
            "26/26 [==============================] - 22s 842ms/step - loss: 2.1400\n",
            "Epoch 48/50\n",
            "26/26 [==============================] - 22s 842ms/step - loss: 2.1150\n",
            "Epoch 49/50\n",
            "26/26 [==============================] - 22s 862ms/step - loss: 2.0893\n",
            "Epoch 50/50\n",
            "26/26 [==============================] - 22s 855ms/step - loss: 2.0680\n"
          ]
        }
      ]
    },
    {
      "cell_type": "markdown",
      "source": [
        "# Pegasus Model Train"
      ],
      "metadata": {
        "id": "cwtxapx8iNdh"
      }
    },
    {
      "cell_type": "code",
      "source": [
        "\"\"\"\n",
        "Creating Pegasus Dataset and Trainer functions\n",
        "\n",
        "Reference:\n",
        "  https://gist.github.com/jiahao87/50cec29725824da7ff6dd9314b53c4b3\n",
        "\"\"\"\n",
        "class PegasusDataset(torch.utils.data.Dataset):\n",
        "  def __init__(self, encodings, labels):\n",
        "      self.encodings = encodings\n",
        "      self.labels = labels\n",
        "  def __getitem__(self, idx):\n",
        "      item = {key: torch.tensor(val[idx]) for key, val in self.encodings.items()}\n",
        "      item['labels'] = torch.tensor(self.labels['input_ids'][idx])  \n",
        "      return item\n",
        "  def __len__(self):\n",
        "      return len(self.labels['input_ids'])\n",
        "\n",
        "class PegasusTrainer():\n",
        "\n",
        "  model = None,\n",
        "  tokenizer = None,\n",
        "  training_args = None,\n",
        "  train_dataset = None,\n",
        "  trainer = None\n",
        "\n",
        "  def __init__(self, model_name, train_texts, train_labels, training_args, freeze_encoder = False):\n",
        "    \"\"\"\n",
        "    Create model, tokenizer\n",
        "    Create train dataset and return trainer\n",
        "    \"\"\"\n",
        "    torch_device = 'cuda' if torch.cuda.is_available() else 'cpu'\n",
        "    self.model = PegasusForConditionalGeneration.from_pretrained(model_name)\n",
        "    self.tokenizer = PegasusTokenizer.from_pretrained(model_name)\n",
        "    self.training_args = training_args\n",
        "    self.train_dataset = self.create_encoding_decoding(train_texts, train_labels)\n",
        "    self.trainer = self.create_trainer(freeze_encoder)\n",
        "    \n",
        "  def create_encoding_decoding(self, train_texts, train_labels):\n",
        "    \"\"\"\n",
        "    Prepare input data for model fine-tuning\n",
        "    \"\"\"\n",
        "    encodings = self.tokenizer(train_texts, truncation=True, padding=True, max_length=128)\n",
        "    decodings = self.tokenizer(train_labels, truncation=True, padding=True, max_length=512)\n",
        "    dataset_tokenized = PegasusDataset(encodings, decodings)\n",
        "\n",
        "    return dataset_tokenized\n",
        "\n",
        "\n",
        "  def create_trainer(self, freeze_encoder):\n",
        "    \"\"\"\n",
        "    Prepare configurations and base model for fine-tuning\n",
        "    \"\"\"\n",
        "    if freeze_encoder:\n",
        "      for param in model.model.encoder.parameters():\n",
        "        param.requires_grad = False\n",
        "\n",
        "\n",
        "    trainer = Trainer(\n",
        "      model=self.model,                         \n",
        "      args=self.training_args,                  \n",
        "      train_dataset=self.train_dataset,\n",
        "      tokenizer=self.tokenizer\n",
        "    )\n",
        "\n",
        "    return trainer\n"
      ],
      "metadata": {
        "id": "72PmMifempfO"
      },
      "execution_count": null,
      "outputs": []
    },
    {
      "cell_type": "code",
      "source": [
        "# Load Dataset as Huggingface dataset object\n",
        "# First 1000 sample has been taken due to memory issues\n",
        "dataset = load_dataset(\"csv\", data_files = \"Data/dataset_1.csv\")\n",
        "train_texts, train_labels = dataset['train']['ingredients'][:1000], dataset['train']['steps'][:1000]"
      ],
      "metadata": {
        "colab": {
          "base_uri": "https://localhost:8080/",
          "height": 186,
          "referenced_widgets": [
            "13baeb950a1e47ecbfa1b0a75bed9edd",
            "f69af07a49b3478181c123c5f3b889a3",
            "f9b076467a194ce1a65f8b20785b0419",
            "1e1362cffd1042bfae594352a380fc4e",
            "0ba9bb8b16834a28a306dd61be186446",
            "04c03a8bedcb47ba9e0f9148c3d72562",
            "4a07acf6161d4d8998319ba902f24e2f",
            "e4a2dbbe4cbb4d9cac28fbf6a1420f61",
            "7f8e008d586940f58555906cc9d4fe37",
            "44e6659675c444e7a0acf7978be7234b",
            "c6bb40403d5b48669c2e1aeed899a345",
            "599fccd98d5940d09973d412a4d355ee",
            "364662472c5a4e97a88f58a20c6a1d9b",
            "adc27bbec41e4712a2b3d1824aa09f40",
            "2ed53d8935ac42d4857a0d6513563180",
            "0caecd567d8544d69f3f2e49c8e64f4c",
            "0ded0d22adfb40c4bce7c683ce9518e0",
            "1bc79e07e6ec405c955006172e41cb24",
            "f8e69b030d5d4458b590401a4218f277",
            "ca2fea38ade7453daf10a5523c4f79ed",
            "0ba33412744342bc9cc44b7c007c294b",
            "06972e7f763c4b2aae7fd75b6a569ac9",
            "9130d43c59c5425ab1363f23204561fd",
            "2631e1a0b45f4038aefa7d666b66b5ca",
            "b958c16c38534c139fb4f23d98b32a6a",
            "bc361060c8b74fffb75bbeba3ff12b35",
            "c2664e65f64e4e5ea75b1b28a3de4566",
            "0bb3a43190fd45f4a3ace05454f2e254",
            "e3a2c38246234715ac993944c8fe440b",
            "ffeef11be3364202ba14c31a7b57f040",
            "4d9091297553407c825080dea213d765",
            "cc54bcdf8cb7434d8821c6f3f7f8e849",
            "508d5a8b6009480784ae84163bfec7dc"
          ]
        },
        "id": "g4ivXppJv_Fb",
        "outputId": "3d78d77c-0192-47ee-b3ee-cb156e07251e"
      },
      "execution_count": null,
      "outputs": [
        {
          "output_type": "stream",
          "name": "stderr",
          "text": [
            "Using custom data configuration default-f6cc69f207a5cff2\n"
          ]
        },
        {
          "output_type": "stream",
          "name": "stdout",
          "text": [
            "Downloading and preparing dataset csv/default to /root/.cache/huggingface/datasets/csv/default-f6cc69f207a5cff2/0.0.0/433e0ccc46f9880962cc2b12065189766fbb2bee57a221866138fb9203c83519...\n"
          ]
        },
        {
          "output_type": "display_data",
          "data": {
            "text/plain": [
              "Downloading data files:   0%|          | 0/1 [00:00<?, ?it/s]"
            ],
            "application/vnd.jupyter.widget-view+json": {
              "version_major": 2,
              "version_minor": 0,
              "model_id": "13baeb950a1e47ecbfa1b0a75bed9edd"
            }
          },
          "metadata": {}
        },
        {
          "output_type": "display_data",
          "data": {
            "text/plain": [
              "Extracting data files:   0%|          | 0/1 [00:00<?, ?it/s]"
            ],
            "application/vnd.jupyter.widget-view+json": {
              "version_major": 2,
              "version_minor": 0,
              "model_id": "599fccd98d5940d09973d412a4d355ee"
            }
          },
          "metadata": {}
        },
        {
          "output_type": "stream",
          "name": "stdout",
          "text": [
            "Dataset csv downloaded and prepared to /root/.cache/huggingface/datasets/csv/default-f6cc69f207a5cff2/0.0.0/433e0ccc46f9880962cc2b12065189766fbb2bee57a221866138fb9203c83519. Subsequent calls will reuse this data.\n"
          ]
        },
        {
          "output_type": "display_data",
          "data": {
            "text/plain": [
              "  0%|          | 0/1 [00:00<?, ?it/s]"
            ],
            "application/vnd.jupyter.widget-view+json": {
              "version_major": 2,
              "version_minor": 0,
              "model_id": "9130d43c59c5425ab1363f23204561fd"
            }
          },
          "metadata": {}
        }
      ]
    },
    {
      "cell_type": "code",
      "source": [
        "#@title Choose Pre_Trained Pegasus model\n",
        "model_name = 'google/pegasus-large' # @param [\"google/pegasus-large\", \"sshleifer/distill-pegasus-xsum-16-4\"]"
      ],
      "metadata": {
        "id": "RJ9QCpsMysgQ"
      },
      "execution_count": null,
      "outputs": []
    },
    {
      "cell_type": "code",
      "source": [
        "#@title Pegasus Training Arguments\n",
        "output_dir=\"./results\"          # @param {type: \"string\"}\n",
        "num_train_epochs=0.1            # @param {type: \"integer\"}\n",
        "per_device_train_batch_size=1   # @param {type: \"integer\"}\n",
        "save_steps=1000                 # @param {type: \"integer\"}\n",
        "save_total_limit=5              # @param {type: \"integer\"}\n",
        "warmup_steps=500                # @param {type: \"integer\"}\n",
        "weight_decay=0.01               # @param {type: \"raw\"}\n",
        "logging_dir='./logs'            # @param {type: \"string\"}\n",
        "logging_steps=100               # @param {type: \"string\"}\n",
        "\n",
        "\n",
        "training_args = TrainingArguments(\n",
        "  output_dir=output_dir,           # output directory\n",
        "  num_train_epochs=num_train_epochs,           # number of epochs\n",
        "  per_device_train_batch_size=per_device_train_batch_size,   # batch size per device during training, can increase if memory allows\n",
        "  save_steps=save_steps,                  # number of updates steps before checkpoint saves\n",
        "  save_total_limit=save_total_limit,              # limit the total amount of checkpoints and deletes the older checkpoints\n",
        "  warmup_steps=warmup_steps,                # number of warmup steps for learning rate scheduler\n",
        "  weight_decay=weight_decay,               # strength of weight decay\n",
        "  logging_dir=logging_dir,            # directory for storing logs\n",
        "  logging_steps=logging_steps,\n",
        "  eval_accumulation_steps= 1\n",
        ")\n"
      ],
      "metadata": {
        "id": "s5-MfWNSwEAT"
      },
      "execution_count": null,
      "outputs": []
    },
    {
      "cell_type": "code",
      "source": [
        "trainer = PegasusTrainer(model_name = model_name, \n",
        "                         train_texts = train_texts, \n",
        "                         train_labels = train_labels, \n",
        "                         training_args = training_args, \n",
        "                         freeze_encoder = False)\n"
      ],
      "metadata": {
        "colab": {
          "base_uri": "https://localhost:8080/",
          "height": 177,
          "referenced_widgets": [
            "2e955fea17894ec4bdb05c60ba943bfb",
            "197524934fdf4a51b625b27630e4fa25",
            "f6620f4e3d694b90aa50fb8839d1225b",
            "b43b5c0b6c2c44f88356f430b7839bc6",
            "317429e27a6941ad930a25fa0f0ace59",
            "1868d886a9da491a9cb0107d9d1a4e70",
            "95455f6814734fbe821ca30dcd5b1a2b",
            "95fad011cf6d4f248db5aec4f07367c5",
            "7ee5ccee13f348e89a488f215c5dd974",
            "216079fda2914854a6cc42e664bdd945",
            "ba9cac5bd5784ea1968713c6eeaf264f",
            "0d74067dc824420cb9ec6eb657c00da6",
            "851e18de388e48f38e481ba5d317ac42",
            "faef7bf3c78d463dbdf45e757a44c958",
            "28c73e72858a40dbb0e27a77aec769ad",
            "a91462c02c704a3b9565950d73d65834",
            "d145b04223a24bf0bb88cfd503cd1adc",
            "f42b5fa768544e0ba655dbd393beb13f",
            "c65409966a65496d98880688b9a485d5",
            "000fa55bcbee4135b28b827a0d051d8c",
            "44b969394a4a41d29891cb54ad4fddf0",
            "d23c31c7929a4af3b8f836d229696aab",
            "6304d48f50664e008be69cf47db472d2",
            "49c7ae0341164e0281d4295d327e1b19",
            "97494bdbd0744abcb701933fcccb4a25",
            "cea64e5a98fa427487a887c47b400ae1",
            "1f637df793654e4888d1af605e002543",
            "02e178a415af40c3912063917d058559",
            "b8da919a66a74c23852ad5e99dbb85d9",
            "8ff4b391c76f47299d647da6ac22ac7d",
            "bf19b07c0156480c834adcb8f58188ac",
            "60274f2300a84656b20b7a4575ad86ab",
            "4c1911132f9c45a4bd8c1d901a379337",
            "e0ba89e0055f4a9ba758b2c19afda835",
            "870441674add42fbbf23a8914526c45c",
            "7f462361406949dab61a65c9856b307e",
            "187d40f01fe044e3925312ec5b432d44",
            "a9fcd089d3144356820eb295d3e01615",
            "a75f9ecaca3640239474865af5de2a6b",
            "e2598f223b4d43fdb0bbbf1472cb39b0",
            "c165ebbcdc694401af39bdc06b846109",
            "f568b226a4fb4e7da0239be0ec7caeb6",
            "f27767a61588430e9ff4f043aef10a03",
            "feaebc819b8a45b79b0c02e91027fab9",
            "680fd82ce17e4facb041d948b766d651",
            "901b74b11f3445f8a33bdedede35602a",
            "d966a6134ad94a5d9ed06e42bc34903c",
            "0b2b222ffb6147c28a9c513ca3936e75",
            "44e8ad90ca3f45a285ecfc3692bf1565",
            "96a072d9c60f4dff910cdbd544c98dac",
            "b422abb015d04088b7a9092feafb6857",
            "304e6d0fd32e4aed8aaa94de114f84cb",
            "e905cb0a4cf04180b77cb6da520c70e1",
            "81bc06e7e5ec48d980910a9fa70870b0",
            "2fdffece9b1a4719b23a941d4c005308"
          ]
        },
        "id": "ZM2Mn13uoAqB",
        "outputId": "eed59ed4-664d-42b5-a6c0-d37e6d687139"
      },
      "execution_count": null,
      "outputs": [
        {
          "output_type": "display_data",
          "data": {
            "text/plain": [
              "Downloading:   0%|          | 0.00/3.02k [00:00<?, ?B/s]"
            ],
            "application/vnd.jupyter.widget-view+json": {
              "version_major": 2,
              "version_minor": 0,
              "model_id": "2e955fea17894ec4bdb05c60ba943bfb"
            }
          },
          "metadata": {}
        },
        {
          "output_type": "display_data",
          "data": {
            "text/plain": [
              "Downloading:   0%|          | 0.00/2.12G [00:00<?, ?B/s]"
            ],
            "application/vnd.jupyter.widget-view+json": {
              "version_major": 2,
              "version_minor": 0,
              "model_id": "0d74067dc824420cb9ec6eb657c00da6"
            }
          },
          "metadata": {}
        },
        {
          "output_type": "display_data",
          "data": {
            "text/plain": [
              "Downloading:   0%|          | 0.00/1.82M [00:00<?, ?B/s]"
            ],
            "application/vnd.jupyter.widget-view+json": {
              "version_major": 2,
              "version_minor": 0,
              "model_id": "6304d48f50664e008be69cf47db472d2"
            }
          },
          "metadata": {}
        },
        {
          "output_type": "display_data",
          "data": {
            "text/plain": [
              "Downloading:   0%|          | 0.00/65.0 [00:01<?, ?B/s]"
            ],
            "application/vnd.jupyter.widget-view+json": {
              "version_major": 2,
              "version_minor": 0,
              "model_id": "e0ba89e0055f4a9ba758b2c19afda835"
            }
          },
          "metadata": {}
        },
        {
          "output_type": "display_data",
          "data": {
            "text/plain": [
              "Downloading:   0%|          | 0.00/88.0 [00:00<?, ?B/s]"
            ],
            "application/vnd.jupyter.widget-view+json": {
              "version_major": 2,
              "version_minor": 0,
              "model_id": "680fd82ce17e4facb041d948b766d651"
            }
          },
          "metadata": {}
        }
      ]
    },
    {
      "cell_type": "code",
      "source": [
        "#@title Train model\n",
        "trainer.trainer.train()"
      ],
      "metadata": {
        "colab": {
          "base_uri": "https://localhost:8080/",
          "height": 394
        },
        "id": "ZDGK_bdBxVA1",
        "outputId": "cae26fc2-275e-4dcf-a0e9-9c7fca2a38e5"
      },
      "execution_count": null,
      "outputs": [
        {
          "output_type": "stream",
          "name": "stderr",
          "text": [
            "/usr/local/lib/python3.7/dist-packages/transformers/optimization.py:309: FutureWarning: This implementation of AdamW is deprecated and will be removed in a future version. Use the PyTorch implementation torch.optim.AdamW instead, or set `no_deprecation_warning=True` to disable this warning\n",
            "  FutureWarning,\n",
            "***** Running training *****\n",
            "  Num examples = 1000\n",
            "  Num Epochs = 1\n",
            "  Instantaneous batch size per device = 1\n",
            "  Total train batch size (w. parallel, distributed & accumulation) = 1\n",
            "  Gradient Accumulation steps = 1\n",
            "  Total optimization steps = 100\n"
          ]
        },
        {
          "output_type": "display_data",
          "data": {
            "text/plain": [
              "<IPython.core.display.HTML object>"
            ],
            "text/html": [
              "\n",
              "    <div>\n",
              "      \n",
              "      <progress value='100' max='100' style='width:300px; height:20px; vertical-align: middle;'></progress>\n",
              "      [100/100 00:40, Epoch 0/1]\n",
              "    </div>\n",
              "    <table border=\"1\" class=\"dataframe\">\n",
              "  <thead>\n",
              " <tr style=\"text-align: left;\">\n",
              "      <th>Step</th>\n",
              "      <th>Training Loss</th>\n",
              "    </tr>\n",
              "  </thead>\n",
              "  <tbody>\n",
              "    <tr>\n",
              "      <td>100</td>\n",
              "      <td>10.626500</td>\n",
              "    </tr>\n",
              "  </tbody>\n",
              "</table><p>"
            ]
          },
          "metadata": {}
        },
        {
          "output_type": "stream",
          "name": "stderr",
          "text": [
            "\n",
            "\n",
            "Training completed. Do not forget to share your model on huggingface.co/models =)\n",
            "\n",
            "\n"
          ]
        },
        {
          "output_type": "execute_result",
          "data": {
            "text/plain": [
              "TrainOutput(global_step=100, training_loss=10.62646240234375, metrics={'train_runtime': 41.4685, 'train_samples_per_second': 2.411, 'train_steps_per_second': 2.411, 'total_flos': 36118305177600.0, 'train_loss': 10.62646240234375, 'epoch': 0.1})"
            ]
          },
          "metadata": {},
          "execution_count": 13
        }
      ]
    },
    {
      "cell_type": "code",
      "source": [
        "# Clear the GPU memory\n",
        "print(\"Initial GPU usage: \",torch.cuda.memory_reserved())\n",
        "del trainer\n",
        "time.sleep(10)\n",
        "torch.cuda.empty_cache()\n",
        "print(\"Last GPU usage: \",torch.cuda.memory_reserved())\n"
      ],
      "metadata": {
        "colab": {
          "base_uri": "https://localhost:8080/"
        },
        "id": "l7tumyoEjVBW",
        "outputId": "7527cabb-0017-4b08-bfa2-ec49f03daff3"
      },
      "execution_count": null,
      "outputs": [
        {
          "output_type": "stream",
          "name": "stdout",
          "text": [
            "Initial GPU usage:  13136560128\n",
            "Last GPU usage:  0\n"
          ]
        }
      ]
    },
    {
      "cell_type": "markdown",
      "source": [
        "# TEST: PEGASUS"
      ],
      "metadata": {
        "id": "xW-j6t848uT7"
      }
    },
    {
      "cell_type": "code",
      "source": [
        "#@title Choose model to test\n",
        "model_path = \"Pegasus_Recipe\" # @param [\"Pegasus_Recipe\"]\n",
        "model_path = \"Models/\"+ model_path\n",
        "torch_device = 'cuda'\n",
        "model = PegasusForConditionalGeneration.from_pretrained(model_path).to(torch_device)\n",
        "tokenizer = PegasusTokenizer.from_pretrained(model_path)\n"
      ],
      "metadata": {
        "id": "x3fHgkcs86u-",
        "cellView": "form"
      },
      "execution_count": null,
      "outputs": []
    },
    {
      "cell_type": "code",
      "source": [
        "#@title Write Input Ingredients (Split by using comma)\n",
        "input_ingredients = \"penne pasta, chicken, onion, mushroom, double cream, olive oil\" # @param {type: \"string\"}\n",
        "input_text = \" <sep> \".join([ingredient.strip() for ingredient in input_ingredients.split(\",\")])\n",
        "\n",
        "temperature = 1.0 # @param {type: \"raw\"}"
      ],
      "metadata": {
        "id": "IbE7f7Tu9iV7",
        "cellView": "form"
      },
      "execution_count": null,
      "outputs": []
    },
    {
      "cell_type": "code",
      "source": [
        "#@title Generate Recipe\n",
        "input_tokens = tokenizer(input_text, max_length=128, return_tensors=\"pt\")\n",
        "\n",
        "# Generate Recipe\n",
        "summary_ids = model.generate(input_tokens[\"input_ids\"].to(torch_device), temperature=temperature, early_stopping=True)\n",
        "generated_text = tokenizer.batch_decode(summary_ids, skip_special_tokens=True, clean_up_tokenization_spaces=False)[0]\n",
        "\n",
        "print(\"Ingredient List : \"+ input_ingredients)\n",
        "print(\"Generated Recipe : \")\n",
        "for step in generated_text.split(\"sep> \"):\n",
        "  print(\"-\",step)"
      ],
      "metadata": {
        "id": "Kb7y9mqm8tsn",
        "colab": {
          "base_uri": "https://localhost:8080/"
        },
        "cellView": "form",
        "outputId": "a451836f-5a56-46f1-ac0c-8867625b5e9b"
      },
      "execution_count": null,
      "outputs": [
        {
          "output_type": "stream",
          "name": "stderr",
          "text": [
            "Truncation was not explicitly activated but `max_length` is provided a specific value, please use `truncation=True` to explicitly truncate examples to max length. Defaulting to 'longest_first' truncation strategy. If you encode pairs of sequences (GLUE-style) with the tokenizer you can select this strategy more precisely by providing a specific strategy to `truncation`.\n"
          ]
        },
        {
          "output_type": "stream",
          "name": "stdout",
          "text": [
            "Ingredient List : penne pasta, chicken, onion, mushroom, double cream, olive oil, \n",
            "Generated Recipe : \n",
            "- cook pasta as directed on package \n",
            "- drain \n",
            "- add chicken , onion , mushrooms and cream to pan \n",
            "- bring to a boil \n",
            "- reduce heat to medium low \n",
            "- simmer 10 minutes or until pasta is tender \n",
            "- stir in olive oil to coat \n",
            "- serve hot\n"
          ]
        }
      ]
    },
    {
      "cell_type": "markdown",
      "source": [
        "# TEST: RNN Model"
      ],
      "metadata": {
        "id": "qn7n_H4l8pmf"
      }
    },
    {
      "cell_type": "markdown",
      "source": [
        "## TEST: Letter Base Generation"
      ],
      "metadata": {
        "id": "6k9xX4mkviR4"
      }
    },
    {
      "cell_type": "code",
      "source": [
        "#@title Choose dataset model trained\n",
        "dataset = \"dataset_3\" # @param [\"dataset_2\", \"dataset_3\"]{type:\"string\"}\n",
        "data_file = \"Data/\"+dataset + \".txt\"\n",
        "model_name = \"Models/\"+dataset + \"_letter\"\n",
        "model_name = model_name+\"/\""
      ],
      "metadata": {
        "cellView": "form",
        "id": "3--Jml-frLvm"
      },
      "execution_count": null,
      "outputs": []
    },
    {
      "cell_type": "code",
      "source": [
        "#@title Load model\n",
        "\n",
        "text = \"\"\n",
        "with open(data_file,\"r\") as dataset_f:\n",
        "  text = dataset_f.read()\n",
        "\n",
        "# The length of text is the number of characters in it\n",
        "vocabulary = sorted(set(text))\n",
        "char2idx = {u:i for i, u in enumerate(vocabulary)}\n",
        "idx2char = np.array(vocabulary)\n",
        "\n",
        "def build_model(vocab_size=len(vocabulary), embedding_dim=256, n_rnn_units=1024, batch_size=1):\n",
        "    model = tf.keras.Sequential([\n",
        "            tf.keras.layers.Embedding(vocab_size, embedding_dim,\n",
        "                                      batch_input_shape=[batch_size, None]),\n",
        "            tf.keras.layers.LSTM(n_rnn_units,\n",
        "                                return_sequences=True,\n",
        "                                stateful=True,\n",
        "                                recurrent_activation='sigmoid',\n",
        "                                recurrent_initializer='glorot_uniform'),\n",
        "            tf.keras.layers.Dense(vocab_size)\n",
        "        ])\n",
        "    return model\n",
        "\n",
        "def generate_text(model, input_text, n_characters_output=1000):\n",
        "    # First, vectorize the input text as before\n",
        "    input_eval = [char2idx[s] for s in input_text]\n",
        "    input_eval = tf.expand_dims(input_eval, 0)\n",
        "\n",
        "    # We'll store results in this variable\n",
        "    text_generated = []\n",
        "\n",
        "    # Generate the number of characters desired\n",
        "    model.reset_states()\n",
        "    for i in range(n_characters_output):\n",
        "        # Run input through model\n",
        "        predictions = model(input_eval)\n",
        "\n",
        "        # Remove the batch dimension\n",
        "        predictions = tf.squeeze(predictions, 0)\n",
        "\n",
        "        # Using a categorical distribution to predict the character returned by the model\n",
        "        predicted_id = tf.random.categorical(predictions, num_samples=1)[-1,0].numpy()\n",
        "\n",
        "        # Pass the predicted character as the next input to the model\n",
        "        input_eval = tf.expand_dims([predicted_id], 0)\n",
        "\n",
        "        # Add the predicted character to the output\n",
        "        text_generated.append(idx2char[predicted_id])\n",
        "\n",
        "    # Return output\n",
        "    return (input_text + \"\\n\"+''.join(text_generated))\n",
        "\n",
        "model = build_model()\n",
        "model.load_weights(tf.train.latest_checkpoint(model_name))\n",
        "model.build(tf.TensorShape([1, None]))\n",
        "\n"
      ],
      "metadata": {
        "cellView": "form",
        "id": "NhE-cvSarGSo"
      },
      "execution_count": null,
      "outputs": []
    },
    {
      "cell_type": "code",
      "source": [
        "#@title Write Input Ingredients (Split by using comma)\n",
        "input_ingredients = \"eggs, sugar, butter, flour, cocoa, milk\" # @param {type: \"string\"}\n",
        "input_text = \"\"\n",
        "if dataset == \"dataset_2\":\n",
        "  input_text = \" <sep> \".join([ingredient.strip() for ingredient in input_ingredients.split(\",\")])\n",
        "if dataset == \"dataset_3\":\n",
        "  input_text = \" <rec> \" + \" <ing> \".join([ingredient.strip() for ingredient in input_ingredients.split(\",\")]) + \" <s_stp> \"\n",
        "n_characters_output = 256 #@param \n"
      ],
      "metadata": {
        "id": "l4vDs7WLEY3B",
        "cellView": "form"
      },
      "execution_count": null,
      "outputs": []
    },
    {
      "cell_type": "code",
      "source": [
        "#@title Generate Recipe\n",
        "generated_text = generate_text(model, input_text=input_text, n_characters_output=n_characters_output)\n",
        "\n",
        "print(\"Ingredient List : \"+ input_ingredients)\n",
        "print(\"Generated Recipe : \")\n",
        "\n",
        "if dataset == \"dataset_3\":\n",
        "  generated_text = generated_text.split(\"\\n\")[1]\n",
        "  for step in generated_text.split(\"<stp>\"):\n",
        "    print(\"-\",step)\n",
        "if dataset == \"dataset_2\":\n",
        "  generated_text = generated_text.split(\"\\n\")[1]\n",
        "  for step in generated_text.split(\"<sep>\"):\n",
        "    print(\"-\",step)"
      ],
      "metadata": {
        "colab": {
          "base_uri": "https://localhost:8080/"
        },
        "cellView": "form",
        "id": "sAer1_Okl4eZ",
        "outputId": "0b86c9b8-b70c-42ff-a825-30d3c9652237"
      },
      "execution_count": null,
      "outputs": [
        {
          "output_type": "stream",
          "name": "stdout",
          "text": [
            "Ingredient List : eggs, sugar, butter, flour, cocoa, milk\n",
            "Generated Recipe : \n",
            "- mix more cream cheese and butter \n",
            "-  beat in egg whites \n",
            "-  add about 3 minutes \n",
            "-  transfer to a tender \n",
            "-  place in warm place for 5 minutes \n",
            "-  pulse with apple mixture \n",
            "-  pour into 9x13 baking dish \n",
            "-  meanwhile , puree artichoke mixture\n"
          ]
        }
      ]
    },
    {
      "cell_type": "markdown",
      "source": [
        "## TEST: Word Base Generation"
      ],
      "metadata": {
        "id": "bVa2fOvEvpSc"
      }
    },
    {
      "cell_type": "code",
      "source": [
        "#@title Choose dataset model trained\n",
        "dataset_name = \"dataset_2\" # @param [\"dataset_2\", \"dataset_3\"]\n",
        "data_file = \"Data/\"+dataset + \".txt\"\n",
        "model_name = \"Models/\" + dataset + \"_word\"\n",
        "model_name = model_name+\"/\""
      ],
      "metadata": {
        "cellView": "form",
        "id": "a87mKDvDvopD"
      },
      "execution_count": null,
      "outputs": []
    },
    {
      "cell_type": "code",
      "source": [
        "#@title Load Model\n",
        "# The length of text is the number of characters in it\n",
        "\n",
        "\n",
        "text = \"\"\n",
        "with open(data_file,\"r\") as dataset_f:\n",
        "  text = dataset_f.read()\n",
        "words = text.split(\" \")\n",
        "vocabulary_words = sorted(set(words))\n",
        "word2idx = {u:i for i, u in enumerate(vocabulary_words)}\n",
        "idx2word = np.array(vocabulary_words)\n",
        "\n",
        "def build_word_model(vocab_size=len(vocabulary_words), embedding_dim=100, n_rnn_units=1024, batch_size=1):\n",
        "    model = tf.keras.Sequential([\n",
        "            tf.keras.layers.Embedding(vocab_size, embedding_dim,\n",
        "                                      batch_input_shape=[batch_size, None]),\n",
        "            tf.keras.layers.LSTM(n_rnn_units,\n",
        "                                return_sequences=True,\n",
        "                                stateful=True,\n",
        "                                recurrent_activation='sigmoid',\n",
        "                                recurrent_initializer='glorot_uniform'),\n",
        "            tf.keras.layers.Dense(vocab_size)\n",
        "        ])\n",
        "    return model\n",
        "\n",
        "def generate_text(model, input_text, n_tokens_output=256):\n",
        "    # First, vectorize the input text as before\n",
        "    input_eval = [word2idx[s] for s in input_text.split(\" \")]\n",
        "    input_eval = tf.expand_dims(input_eval, 0)\n",
        "\n",
        "    # We'll store results in this variable\n",
        "    text_generated = []\n",
        "\n",
        "    # Generate the number of characters desired\n",
        "    model.reset_states()\n",
        "    for i in range(n_tokens_output):\n",
        "        # Run input through model\n",
        "        predictions = model(input_eval)\n",
        "\n",
        "        # Remove the batch dimension\n",
        "        predictions = tf.squeeze(predictions, 0)\n",
        "\n",
        "        # Using a categorical distribution to predict the character returned by the model\n",
        "        predicted_id = tf.random.categorical(predictions, num_samples=1)[-1,0].numpy()\n",
        "\n",
        "        # Pass the predicted character as the next input to the model\n",
        "        input_eval = tf.expand_dims([predicted_id], 0)\n",
        "\n",
        "        # Add the predicted character to the output\n",
        "        text_generated.append(idx2word[predicted_id])\n",
        "\n",
        "    # Return output\n",
        "    return (input_text + \"\\n\"+' '.join(text_generated))\n",
        "\n",
        "model = build_word_model()\n",
        "model.load_weights(tf.train.latest_checkpoint(model_name))\n",
        "model.build(tf.TensorShape([1, None]))"
      ],
      "metadata": {
        "id": "U69i2wFiakkp",
        "cellView": "form"
      },
      "execution_count": null,
      "outputs": []
    },
    {
      "cell_type": "code",
      "source": [
        "#@title Write Input Ingredients (Split by using comma)\n",
        "input_ingredients = \"eggs, sugar, butter, flour, cocoa, milk\" # @param {type: \"string\"}\n",
        "input_text = \"\"\n",
        "if dataset == \"dataset_2\":\n",
        "  input_text = \" <sep> \".join([ingredient.strip() for ingredient in input_ingredients.split(\",\")])\n",
        "if dataset == \"dataset_3\":\n",
        "  input_text = \" <rec> \" + \" <ing> \".join([ingredient.strip() for ingredient in input_ingredients.split(\",\")]) + \" <s_stp> \"\n",
        "n_tokens_output =  100#@param \n",
        "\n"
      ],
      "metadata": {
        "id": "eyFoamWxrXee",
        "cellView": "form"
      },
      "execution_count": null,
      "outputs": []
    },
    {
      "cell_type": "code",
      "source": [
        "#@title Generate Recipe\n",
        "generated_text = generate_text(model, input_text=input_text, n_tokens_output=n_tokens_output)\n",
        "\n",
        "print(\"Ingredient List : \"+ input_ingredients)\n",
        "print(\"Generated Recipe : \")\n",
        "\n",
        "if dataset == \"dataset_3\":\n",
        "  generated_text = generated_text.split(\"<s_stp>\")[2]\n",
        "  for step in generated_text.split(\"<stp>\"):\n",
        "    print(\"-\",step)\n",
        "if dataset == \"dataset_2\":\n",
        "  generated_text = generated_text.split(\"\\n\")[1]\n",
        "  for step in generated_text.split(\"<sep>\"):\n",
        "    print(\"-\",step)"
      ],
      "metadata": {
        "colab": {
          "base_uri": "https://localhost:8080/"
        },
        "cellView": "form",
        "id": "Ods9P3NQeFuv",
        "outputId": "396ac23a-36a5-4175-990f-edafeaa19557"
      },
      "execution_count": null,
      "outputs": [
        {
          "output_type": "stream",
          "name": "stdout",
          "text": [
            "Ingredient List : eggs, sugar, butter, flour, cocoa, milk\n",
            "Generated Recipe : \n",
            "-  in a 3 quart saucepan or flour , 1 tablespoon of water \n",
            "-  cook sausage , onion & bell pepper in large skillet over medium heat \n",
            "-  add olive oil to skillet \n",
            "-  bring to a boil add noodles on low speed and add tomatoes and honey to a simmer and cook 20 minutes , cool \n",
            "-  pour peanut liquid pectin and sprinkle with icing sugar and 1 / 2 teaspoon tomato sauce \n",
            "-  simmer until cheese is a sauce \n",
            "-  transfer tomatoes\n"
          ]
        }
      ]
    }
  ]
}